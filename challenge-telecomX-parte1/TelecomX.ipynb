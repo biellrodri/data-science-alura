{
 "cells": [
  {
   "cell_type": "code",
   "execution_count": 1,
   "metadata": {
    "id": "X737o9ur-Y3A"
   },
   "outputs": [],
   "source": [
    "import pandas as pd\n",
    "import numpy as np\n",
    "import matplotlib.pyplot as plt\n",
    "import seaborn as sns\n",
    "\n"
   ]
  },
  {
   "cell_type": "code",
   "execution_count": 2,
   "metadata": {
    "id": "cArRTB6F-rbZ"
   },
   "outputs": [],
   "source": [
    "df = pd.read_json('TelecomX_Data.json')"
   ]
  },
  {
   "cell_type": "code",
   "execution_count": 3,
   "metadata": {
    "colab": {
     "base_uri": "https://localhost:8080/",
     "height": 293
    },
    "id": "6Ah-G8C7Tlmk",
    "outputId": "6aa9ca93-2e7a-41c7-9a03-eedf2f3fb0f3"
   },
   "outputs": [
    {
     "data": {
      "text/html": [
       "<div>\n",
       "<style scoped>\n",
       "    .dataframe tbody tr th:only-of-type {\n",
       "        vertical-align: middle;\n",
       "    }\n",
       "\n",
       "    .dataframe tbody tr th {\n",
       "        vertical-align: top;\n",
       "    }\n",
       "\n",
       "    .dataframe thead th {\n",
       "        text-align: right;\n",
       "    }\n",
       "</style>\n",
       "<table border=\"1\" class=\"dataframe\">\n",
       "  <thead>\n",
       "    <tr style=\"text-align: right;\">\n",
       "      <th></th>\n",
       "      <th>customerID</th>\n",
       "      <th>Churn</th>\n",
       "      <th>customer</th>\n",
       "      <th>phone</th>\n",
       "      <th>internet</th>\n",
       "      <th>account</th>\n",
       "    </tr>\n",
       "  </thead>\n",
       "  <tbody>\n",
       "    <tr>\n",
       "      <th>0</th>\n",
       "      <td>0002-ORFBO</td>\n",
       "      <td>No</td>\n",
       "      <td>{'gender': 'Female', 'SeniorCitizen': 0, 'Part...</td>\n",
       "      <td>{'PhoneService': 'Yes', 'MultipleLines': 'No'}</td>\n",
       "      <td>{'InternetService': 'DSL', 'OnlineSecurity': '...</td>\n",
       "      <td>{'Contract': 'One year', 'PaperlessBilling': '...</td>\n",
       "    </tr>\n",
       "    <tr>\n",
       "      <th>1</th>\n",
       "      <td>0003-MKNFE</td>\n",
       "      <td>No</td>\n",
       "      <td>{'gender': 'Male', 'SeniorCitizen': 0, 'Partne...</td>\n",
       "      <td>{'PhoneService': 'Yes', 'MultipleLines': 'Yes'}</td>\n",
       "      <td>{'InternetService': 'DSL', 'OnlineSecurity': '...</td>\n",
       "      <td>{'Contract': 'Month-to-month', 'PaperlessBilli...</td>\n",
       "    </tr>\n",
       "    <tr>\n",
       "      <th>2</th>\n",
       "      <td>0004-TLHLJ</td>\n",
       "      <td>Yes</td>\n",
       "      <td>{'gender': 'Male', 'SeniorCitizen': 0, 'Partne...</td>\n",
       "      <td>{'PhoneService': 'Yes', 'MultipleLines': 'No'}</td>\n",
       "      <td>{'InternetService': 'Fiber optic', 'OnlineSecu...</td>\n",
       "      <td>{'Contract': 'Month-to-month', 'PaperlessBilli...</td>\n",
       "    </tr>\n",
       "    <tr>\n",
       "      <th>3</th>\n",
       "      <td>0011-IGKFF</td>\n",
       "      <td>Yes</td>\n",
       "      <td>{'gender': 'Male', 'SeniorCitizen': 1, 'Partne...</td>\n",
       "      <td>{'PhoneService': 'Yes', 'MultipleLines': 'No'}</td>\n",
       "      <td>{'InternetService': 'Fiber optic', 'OnlineSecu...</td>\n",
       "      <td>{'Contract': 'Month-to-month', 'PaperlessBilli...</td>\n",
       "    </tr>\n",
       "    <tr>\n",
       "      <th>4</th>\n",
       "      <td>0013-EXCHZ</td>\n",
       "      <td>Yes</td>\n",
       "      <td>{'gender': 'Female', 'SeniorCitizen': 1, 'Part...</td>\n",
       "      <td>{'PhoneService': 'Yes', 'MultipleLines': 'No'}</td>\n",
       "      <td>{'InternetService': 'Fiber optic', 'OnlineSecu...</td>\n",
       "      <td>{'Contract': 'Month-to-month', 'PaperlessBilli...</td>\n",
       "    </tr>\n",
       "  </tbody>\n",
       "</table>\n",
       "</div>"
      ],
      "text/plain": [
       "   customerID Churn                                           customer  \\\n",
       "0  0002-ORFBO    No  {'gender': 'Female', 'SeniorCitizen': 0, 'Part...   \n",
       "1  0003-MKNFE    No  {'gender': 'Male', 'SeniorCitizen': 0, 'Partne...   \n",
       "2  0004-TLHLJ   Yes  {'gender': 'Male', 'SeniorCitizen': 0, 'Partne...   \n",
       "3  0011-IGKFF   Yes  {'gender': 'Male', 'SeniorCitizen': 1, 'Partne...   \n",
       "4  0013-EXCHZ   Yes  {'gender': 'Female', 'SeniorCitizen': 1, 'Part...   \n",
       "\n",
       "                                             phone  \\\n",
       "0   {'PhoneService': 'Yes', 'MultipleLines': 'No'}   \n",
       "1  {'PhoneService': 'Yes', 'MultipleLines': 'Yes'}   \n",
       "2   {'PhoneService': 'Yes', 'MultipleLines': 'No'}   \n",
       "3   {'PhoneService': 'Yes', 'MultipleLines': 'No'}   \n",
       "4   {'PhoneService': 'Yes', 'MultipleLines': 'No'}   \n",
       "\n",
       "                                            internet  \\\n",
       "0  {'InternetService': 'DSL', 'OnlineSecurity': '...   \n",
       "1  {'InternetService': 'DSL', 'OnlineSecurity': '...   \n",
       "2  {'InternetService': 'Fiber optic', 'OnlineSecu...   \n",
       "3  {'InternetService': 'Fiber optic', 'OnlineSecu...   \n",
       "4  {'InternetService': 'Fiber optic', 'OnlineSecu...   \n",
       "\n",
       "                                             account  \n",
       "0  {'Contract': 'One year', 'PaperlessBilling': '...  \n",
       "1  {'Contract': 'Month-to-month', 'PaperlessBilli...  \n",
       "2  {'Contract': 'Month-to-month', 'PaperlessBilli...  \n",
       "3  {'Contract': 'Month-to-month', 'PaperlessBilli...  \n",
       "4  {'Contract': 'Month-to-month', 'PaperlessBilli...  "
      ]
     },
     "execution_count": 3,
     "metadata": {},
     "output_type": "execute_result"
    }
   ],
   "source": [
    "df. head()"
   ]
  },
  {
   "cell_type": "markdown",
   "metadata": {
    "id": "EDvgjH13Jm4I"
   },
   "source": [
    "Criando uma copia do DataFrame"
   ]
  },
  {
   "cell_type": "code",
   "execution_count": 4,
   "metadata": {
    "id": "irORVMSH_eqk"
   },
   "outputs": [],
   "source": [
    "df_raw = df.copy()"
   ]
  },
  {
   "cell_type": "markdown",
   "metadata": {
    "id": "WdTSyaDOLxM0"
   },
   "source": []
  },
  {
   "cell_type": "code",
   "execution_count": null,
   "metadata": {
    "id": "I31Hx1AYKB2V"
   },
   "outputs": [],
   "source": []
  },
  {
   "cell_type": "markdown",
   "metadata": {
    "id": "enzY28iIL1tK"
   },
   "source": [
    "transformando a chave de cada celula em  colunas separadas nas colunas originais"
   ]
  },
  {
   "cell_type": "code",
   "execution_count": 5,
   "metadata": {
    "id": "NegjOPcM_jAx"
   },
   "outputs": [],
   "source": [
    "df_customer = df['customer'].apply(pd.Series)\n",
    "df_phone = df['phone'].apply(pd.Series)\n",
    "df_internet = df['internet'].apply(pd.Series)\n",
    "df_account = df['account'].apply(pd.Series)"
   ]
  },
  {
   "cell_type": "markdown",
   "metadata": {
    "id": "dPipLkhNL9Oj"
   },
   "source": [
    "transformando os  dados aninhados em uma tabela plana, pronta para análise."
   ]
  },
  {
   "cell_type": "code",
   "execution_count": 6,
   "metadata": {
    "id": "T5_gamVzAPdV"
   },
   "outputs": [],
   "source": [
    "df_clean = pd.concat([df[['customerID', 'Churn']], df_customer, df_phone, df_internet, df_account], axis=1)\n",
    "\n"
   ]
  },
  {
   "cell_type": "markdown",
   "metadata": {
    "id": "fo5J5psDMpJS"
   },
   "source": [
    "No codigo abaixo verifica-se a estrutura e a presença  de dados faltantes no DataFrame"
   ]
  },
  {
   "cell_type": "code",
   "execution_count": 7,
   "metadata": {
    "colab": {
     "base_uri": "https://localhost:8080/",
     "height": 1000
    },
    "id": "dx8b8-pvAdlL",
    "outputId": "e142dca1-5217-4426-8d23-cd2f47068f93"
   },
   "outputs": [
    {
     "name": "stdout",
     "output_type": "stream",
     "text": [
      "<class 'pandas.core.frame.DataFrame'>\n",
      "RangeIndex: 7267 entries, 0 to 7266\n",
      "Data columns (total 20 columns):\n",
      " #   Column            Non-Null Count  Dtype \n",
      "---  ------            --------------  ----- \n",
      " 0   customerID        7267 non-null   object\n",
      " 1   Churn             7267 non-null   object\n",
      " 2   gender            7267 non-null   object\n",
      " 3   SeniorCitizen     7267 non-null   int64 \n",
      " 4   Partner           7267 non-null   object\n",
      " 5   Dependents        7267 non-null   object\n",
      " 6   tenure            7267 non-null   int64 \n",
      " 7   PhoneService      7267 non-null   object\n",
      " 8   MultipleLines     7267 non-null   object\n",
      " 9   InternetService   7267 non-null   object\n",
      " 10  OnlineSecurity    7267 non-null   object\n",
      " 11  OnlineBackup      7267 non-null   object\n",
      " 12  DeviceProtection  7267 non-null   object\n",
      " 13  TechSupport       7267 non-null   object\n",
      " 14  StreamingTV       7267 non-null   object\n",
      " 15  StreamingMovies   7267 non-null   object\n",
      " 16  Contract          7267 non-null   object\n",
      " 17  PaperlessBilling  7267 non-null   object\n",
      " 18  PaymentMethod     7267 non-null   object\n",
      " 19  Charges           7267 non-null   object\n",
      "dtypes: int64(2), object(18)\n",
      "memory usage: 1.1+ MB\n"
     ]
    },
    {
     "data": {
      "text/plain": [
       "customerID          0\n",
       "Churn               0\n",
       "gender              0\n",
       "SeniorCitizen       0\n",
       "Partner             0\n",
       "Dependents          0\n",
       "tenure              0\n",
       "PhoneService        0\n",
       "MultipleLines       0\n",
       "InternetService     0\n",
       "OnlineSecurity      0\n",
       "OnlineBackup        0\n",
       "DeviceProtection    0\n",
       "TechSupport         0\n",
       "StreamingTV         0\n",
       "StreamingMovies     0\n",
       "Contract            0\n",
       "PaperlessBilling    0\n",
       "PaymentMethod       0\n",
       "Charges             0\n",
       "dtype: int64"
      ]
     },
     "execution_count": 7,
     "metadata": {},
     "output_type": "execute_result"
    }
   ],
   "source": [
    "df_clean.info()\n",
    "df_clean.isnull().sum()\n"
   ]
  },
  {
   "cell_type": "markdown",
   "metadata": {
    "id": "7wtrKtQsNt41"
   },
   "source": [
    "No DataFrame que vimos acima a coluna Charge esta como  object, então no codigo a seguir estamos conertendo para numerico."
   ]
  },
  {
   "cell_type": "code",
   "execution_count": 8,
   "metadata": {
    "id": "PvBMeUaCAvXy"
   },
   "outputs": [],
   "source": [
    "df_clean['Charges'] = pd.to_numeric(df_clean['Charges'], errors='coerce')"
   ]
  },
  {
   "cell_type": "markdown",
   "metadata": {
    "id": "QijlII-wO6Gn"
   },
   "source": [
    "Aqui agora verificamos quantos valores nulos(NaN) podem existir na coluna Charger após a conversão"
   ]
  },
  {
   "cell_type": "code",
   "execution_count": 9,
   "metadata": {
    "colab": {
     "base_uri": "https://localhost:8080/"
    },
    "id": "JdoTALOiCEA6",
    "outputId": "52b5db7f-7681-4754-9e70-6f88de0abdd4"
   },
   "outputs": [
    {
     "data": {
      "text/plain": [
       "np.int64(7267)"
      ]
     },
     "execution_count": 9,
     "metadata": {},
     "output_type": "execute_result"
    }
   ],
   "source": [
    "df_clean['Charges'].isnull().sum()\n"
   ]
  },
  {
   "cell_type": "code",
   "execution_count": 10,
   "metadata": {
    "colab": {
     "base_uri": "https://localhost:8080/"
    },
    "id": "AhVjnYiHDq9S",
    "outputId": "5d000474-8e5c-48bd-8204-752b51f919d7"
   },
   "outputs": [
    {
     "data": {
      "text/plain": [
       "np.int64(7267)"
      ]
     },
     "execution_count": 10,
     "metadata": {},
     "output_type": "execute_result"
    }
   ],
   "source": [
    "df_clean['Charges'].head()  # Ver os primeiros valores\n",
    "df_clean['Charges'].dtype   # Ver o tipo de dado da coluna\n",
    "df_clean['Charges'].isnull().sum()  # Quantos NaNs existem"
   ]
  },
  {
   "cell_type": "code",
   "execution_count": 11,
   "metadata": {
    "colab": {
     "base_uri": "https://localhost:8080/"
    },
    "id": "wVW8GDNdJxLD",
    "outputId": "dc01bb1b-debf-44e7-cff9-06219966be08"
   },
   "outputs": [
    {
     "name": "stdout",
     "output_type": "stream",
     "text": [
      "Index(['customerID', 'Churn', 'customer', 'phone', 'internet', 'account'], dtype='object')\n"
     ]
    }
   ],
   "source": [
    "print(df.columns)"
   ]
  },
  {
   "cell_type": "code",
   "execution_count": 12,
   "metadata": {
    "colab": {
     "base_uri": "https://localhost:8080/"
    },
    "id": "_cXakV8lQTeH",
    "outputId": "135fad47-1fe3-46b5-9be3-da9a0dbfa733"
   },
   "outputs": [
    {
     "name": "stdout",
     "output_type": "stream",
     "text": [
      "Index(['customerID', 'Churn', 'gender', 'SeniorCitizen', 'Partner',\n",
      "       'Dependents', 'tenure', 'PhoneService', 'MultipleLines',\n",
      "       'InternetService', 'OnlineSecurity', 'OnlineBackup', 'DeviceProtection',\n",
      "       'TechSupport', 'StreamingTV', 'StreamingMovies', 'Contract',\n",
      "       'PaperlessBilling', 'PaymentMethod', 'Charges'],\n",
      "      dtype='object')\n"
     ]
    }
   ],
   "source": [
    "print(df_clean.columns)"
   ]
  },
  {
   "cell_type": "markdown",
   "metadata": {
    "id": "BAYfue23Q3LI"
   },
   "source": [
    "No codogo acima nos mostra que as colunas ja estão porntas para analise"
   ]
  },
  {
   "cell_type": "code",
   "execution_count": 13,
   "metadata": {
    "colab": {
     "base_uri": "https://localhost:8080/"
    },
    "id": "ZiwGRKvOKCMi",
    "outputId": "f043f10d-c7bc-47c7-be9c-cc6eb496bfbe"
   },
   "outputs": [
    {
     "name": "stdout",
     "output_type": "stream",
     "text": [
      "Index(['Contract', 'PaperlessBilling', 'PaymentMethod', 'Charges'], dtype='object')\n"
     ]
    }
   ],
   "source": [
    "print(df_account.columns)"
   ]
  },
  {
   "cell_type": "code",
   "execution_count": null,
   "metadata": {
    "id": "Gjfxw3ScKTtR"
   },
   "outputs": [],
   "source": [
    "\n"
   ]
  },
  {
   "cell_type": "markdown",
   "metadata": {
    "id": "6RnNH7gESp8T"
   },
   "source": [
    "Vamos exibir as 10 primeiras linhas da coluna Charges do DataFrame para conferir se esta tudo certo."
   ]
  },
  {
   "cell_type": "code",
   "execution_count": 14,
   "metadata": {
    "colab": {
     "base_uri": "https://localhost:8080/"
    },
    "id": "kWBzzR3DLeT3",
    "outputId": "ff45bb92-7dc7-4d72-c564-180267f7464f"
   },
   "outputs": [
    {
     "name": "stdout",
     "output_type": "stream",
     "text": [
      "0       {'Monthly': 65.6, 'Total': '593.3'}\n",
      "1       {'Monthly': 59.9, 'Total': '542.4'}\n",
      "2      {'Monthly': 73.9, 'Total': '280.85'}\n",
      "3     {'Monthly': 98.0, 'Total': '1237.85'}\n",
      "4       {'Monthly': 83.9, 'Total': '267.4'}\n",
      "5      {'Monthly': 69.4, 'Total': '571.45'}\n",
      "6    {'Monthly': 109.7, 'Total': '7904.25'}\n",
      "7     {'Monthly': 84.65, 'Total': '5377.8'}\n",
      "8      {'Monthly': 48.2, 'Total': '340.35'}\n",
      "9     {'Monthly': 90.45, 'Total': '5957.9'}\n",
      "Name: Charges, dtype: object\n"
     ]
    }
   ],
   "source": [
    "\n",
    "print(df_account['Charges'].head(10))\n"
   ]
  },
  {
   "cell_type": "code",
   "execution_count": 15,
   "metadata": {
    "colab": {
     "base_uri": "https://localhost:8080/"
    },
    "id": "LPyILimKLqiO",
    "outputId": "d9e01a52-0c5e-474b-9d3d-7d75e5ee5041"
   },
   "outputs": [
    {
     "name": "stdout",
     "output_type": "stream",
     "text": [
      "0    {'Contract': 'One year', 'PaperlessBilling': '...\n",
      "1    {'Contract': 'Month-to-month', 'PaperlessBilli...\n",
      "2    {'Contract': 'Month-to-month', 'PaperlessBilli...\n",
      "3    {'Contract': 'Month-to-month', 'PaperlessBilli...\n",
      "4    {'Contract': 'Month-to-month', 'PaperlessBilli...\n",
      "5    {'Contract': 'Month-to-month', 'PaperlessBilli...\n",
      "6    {'Contract': 'Two year', 'PaperlessBilling': '...\n",
      "7    {'Contract': 'Two year', 'PaperlessBilling': '...\n",
      "8    {'Contract': 'Month-to-month', 'PaperlessBilli...\n",
      "9    {'Contract': 'Two year', 'PaperlessBilling': '...\n",
      "Name: account, dtype: object\n"
     ]
    }
   ],
   "source": [
    "print(df['account'].head(10))"
   ]
  },
  {
   "cell_type": "code",
   "execution_count": 16,
   "metadata": {
    "colab": {
     "base_uri": "https://localhost:8080/"
    },
    "id": "tUonSzKsLz1d",
    "outputId": "dae261aa-838c-4a41-efa4-51b09cba89f5"
   },
   "outputs": [
    {
     "name": "stdout",
     "output_type": "stream",
     "text": [
      "0       {'Monthly': 65.6, 'Total': '593.3'}\n",
      "1       {'Monthly': 59.9, 'Total': '542.4'}\n",
      "2      {'Monthly': 73.9, 'Total': '280.85'}\n",
      "3     {'Monthly': 98.0, 'Total': '1237.85'}\n",
      "4       {'Monthly': 83.9, 'Total': '267.4'}\n",
      "5      {'Monthly': 69.4, 'Total': '571.45'}\n",
      "6    {'Monthly': 109.7, 'Total': '7904.25'}\n",
      "7     {'Monthly': 84.65, 'Total': '5377.8'}\n",
      "8      {'Monthly': 48.2, 'Total': '340.35'}\n",
      "9     {'Monthly': 90.45, 'Total': '5957.9'}\n",
      "Name: account, dtype: object\n"
     ]
    }
   ],
   "source": [
    "print(df['account'].apply(lambda x: x.get('Charges')).head(10))\n"
   ]
  },
  {
   "cell_type": "markdown",
   "metadata": {
    "id": "nnT-XxtKVlaP"
   },
   "source": [
    "Nos codigos acima nos mostrou que ainda tinhamos problemas com a coluna Charges. então vamos fazer um codigo que vai nos ajudar a diexar a coluna charge em duas coluna numericas separadas.\n"
   ]
  },
  {
   "cell_type": "code",
   "execution_count": 17,
   "metadata": {
    "colab": {
     "base_uri": "https://localhost:8080/"
    },
    "id": "9G-3xRukbXc9",
    "outputId": "30b9f98f-f3a8-4b22-d70c-6704510c6f6e"
   },
   "outputs": [
    {
     "name": "stdout",
     "output_type": "stream",
     "text": [
      "   MonthlyCharges  TotalCharges\n",
      "0            65.6        593.30\n",
      "1            59.9        542.40\n",
      "2            73.9        280.85\n",
      "3            98.0       1237.85\n",
      "4            83.9        267.40\n",
      "MonthlyCharges    float64\n",
      "TotalCharges      float64\n",
      "dtype: object\n"
     ]
    }
   ],
   "source": [
    "# Extrair 'Monthly' e 'Total' da chave 'Charges' do dicionário em 'account'\n",
    "df_account['MonthlyCharges'] = df['account'].apply(lambda x: x.get('Charges').get('Monthly') if x.get('Charges') else None)\n",
    "df_account['TotalCharges'] = df['account'].apply(lambda x: x.get('Charges').get('Total') if x.get('Charges') else None)\n",
    "\n",
    "# Converter TotalCharges para numérico\n",
    "df_account['TotalCharges'] = pd.to_numeric(df_account['TotalCharges'], errors='coerce')\n",
    "\n",
    "# Verificar resultado\n",
    "print(df_account[['MonthlyCharges', 'TotalCharges']].head())\n",
    "print(df_account[['MonthlyCharges', 'TotalCharges']].dtypes)\n"
   ]
  },
  {
   "cell_type": "code",
   "execution_count": 18,
   "metadata": {
    "colab": {
     "base_uri": "https://localhost:8080/"
    },
    "id": "t7xr0prSbkQS",
    "outputId": "8da083f5-167c-4565-c950-680006719470"
   },
   "outputs": [
    {
     "name": "stdout",
     "output_type": "stream",
     "text": [
      "   customerID Churn  gender  SeniorCitizen Partner Dependents  tenure  \\\n",
      "0  0002-ORFBO    No  Female              0     Yes        Yes       9   \n",
      "1  0003-MKNFE    No    Male              0      No         No       9   \n",
      "2  0004-TLHLJ   Yes    Male              0      No         No       4   \n",
      "3  0011-IGKFF   Yes    Male              1     Yes         No      13   \n",
      "4  0013-EXCHZ   Yes  Female              1     Yes         No       3   \n",
      "\n",
      "  PhoneService MultipleLines InternetService  ... OnlineBackup  \\\n",
      "0          Yes            No             DSL  ...          Yes   \n",
      "1          Yes           Yes             DSL  ...           No   \n",
      "2          Yes            No     Fiber optic  ...           No   \n",
      "3          Yes            No     Fiber optic  ...          Yes   \n",
      "4          Yes            No     Fiber optic  ...           No   \n",
      "\n",
      "  DeviceProtection TechSupport StreamingTV StreamingMovies        Contract  \\\n",
      "0               No         Yes         Yes              No        One year   \n",
      "1               No          No          No             Yes  Month-to-month   \n",
      "2              Yes          No          No              No  Month-to-month   \n",
      "3              Yes          No         Yes             Yes  Month-to-month   \n",
      "4               No         Yes         Yes              No  Month-to-month   \n",
      "\n",
      "  PaperlessBilling     PaymentMethod MonthlyCharges  TotalCharges  \n",
      "0              Yes      Mailed check           65.6        593.30  \n",
      "1               No      Mailed check           59.9        542.40  \n",
      "2              Yes  Electronic check           73.9        280.85  \n",
      "3              Yes  Electronic check           98.0       1237.85  \n",
      "4              Yes      Mailed check           83.9        267.40  \n",
      "\n",
      "[5 rows x 21 columns]\n",
      "customerID           object\n",
      "Churn                object\n",
      "gender               object\n",
      "SeniorCitizen         int64\n",
      "Partner              object\n",
      "Dependents           object\n",
      "tenure                int64\n",
      "PhoneService         object\n",
      "MultipleLines        object\n",
      "InternetService      object\n",
      "OnlineSecurity       object\n",
      "OnlineBackup         object\n",
      "DeviceProtection     object\n",
      "TechSupport          object\n",
      "StreamingTV          object\n",
      "StreamingMovies      object\n",
      "Contract             object\n",
      "PaperlessBilling     object\n",
      "PaymentMethod        object\n",
      "MonthlyCharges      float64\n",
      "TotalCharges        float64\n",
      "dtype: object\n"
     ]
    }
   ],
   "source": [
    "# Remover a coluna 'Charges' antiga de df_account\n",
    "df_account = df_account.drop(columns=['Charges'])\n",
    "\n",
    "# Concatenar tudo de novo para formar o df_clean completo\n",
    "df_clean = pd.concat([\n",
    "    df[['customerID', 'Churn']],\n",
    "    df_customer,\n",
    "    df_phone,\n",
    "    df_internet,\n",
    "    df_account\n",
    "], axis=1)\n",
    "\n",
    "# Verificar o resultado final\n",
    "print(df_clean.head())\n",
    "print(df_clean.dtypes)\n"
   ]
  },
  {
   "cell_type": "code",
   "execution_count": 19,
   "metadata": {
    "colab": {
     "base_uri": "https://localhost:8080/"
    },
    "id": "4hQn5eQfcxU7",
    "outputId": "fd4952ca-1dbf-4e9d-9ad2-d0517109572c"
   },
   "outputs": [
    {
     "name": "stdout",
     "output_type": "stream",
     "text": [
      "Churn\n",
      "No     5174\n",
      "Yes    1869\n",
      "Name: count, dtype: int64\n"
     ]
    }
   ],
   "source": [
    "# Substituir strings vazias por NaN\n",
    "df_clean['Churn'] = df_clean['Churn'].replace('', pd.NA)\n",
    "\n",
    "# Remover linhas onde Churn está vazio (NaN)\n",
    "df_clean = df_clean.dropna(subset=['Churn'])\n",
    "\n",
    "# Verificar novamente\n",
    "print(df_clean['Churn'].value_counts())\n"
   ]
  },
  {
   "cell_type": "markdown",
   "metadata": {
    "id": "SBhn1UOWXALt"
   },
   "source": [
    "Agora vamos inicIar as análises."
   ]
  },
  {
   "cell_type": "code",
   "execution_count": 20,
   "metadata": {
    "colab": {
     "base_uri": "https://localhost:8080/",
     "height": 479
    },
    "id": "gDWXRjKub_qq",
    "outputId": "1d4bfd91-4608-4e6a-ce6e-7560d94f1fc9"
   },
   "outputs": [
    {
     "data": {
      "image/png": "[encoded data removed]",
      "text/plain": [
       "<Figure size 600x400 with 1 Axes>"
      ]
     },
     "metadata": {},
     "output_type": "display_data"
    },
    {
     "name": "stdout",
     "output_type": "stream",
     "text": [
      "Churn\n",
      "No     73.463013\n",
      "Yes    26.536987\n",
      "Name: proportion, dtype: float64\n"
     ]
    }
   ],
   "source": [
    "\n",
    "\n",
    "import matplotlib.pyplot as plt\n",
    "import seaborn as sns\n",
    "\n",
    "plt.figure(figsize=(6,4))\n",
    "sns.countplot(data=df_clean, x='Churn')\n",
    "plt.title('Distribuição de Clientes - Churn')\n",
    "plt.xlabel('Churn')\n",
    "plt.ylabel('Quantidade de Clientes')\n",
    "plt.show()\n",
    "\n",
    "# Mostrar porcentagem\n",
    "churn_percent = df_clean['Churn'].value_counts(normalize=True) * 100\n",
    "print(churn_percent)\n"
   ]
  },
  {
   "cell_type": "code",
   "execution_count": 21,
   "metadata": {
    "colab": {
     "base_uri": "https://localhost:8080/",
     "height": 593
    },
    "id": "RfeSk1EdcHcE",
    "outputId": "4b337631-c0a5-404a-edc0-caadcc5e57e7"
   },
   "outputs": [
    {
     "name": "stdout",
     "output_type": "stream",
     "text": [
      "Churn          No        Yes\n",
      "gender                      \n",
      "Female  73.079128  26.920872\n",
      "Male    73.839662  26.160338\n"
     ]
    },
    {
     "data": {
      "image/png": "[encoded data removed]",
      "text/plain": [
       "<Figure size 800x500 with 1 Axes>"
      ]
     },
     "metadata": {},
     "output_type": "display_data"
    }
   ],
   "source": [
    "# Proporção de churn por gênero\n",
    "churn_gender = df_clean.groupby(['gender', 'Churn']).size().unstack()\n",
    "churn_gender_percent = churn_gender.div(churn_gender.sum(axis=1), axis=0) * 100\n",
    "print(churn_gender_percent)\n",
    "\n",
    "# Gráfico de barras empilhadas (churn por gênero)\n",
    "churn_gender_percent.plot(kind='bar', stacked=True, figsize=(8,5))\n",
    "plt.title('Proporção de Churn por Gênero')\n",
    "plt.xlabel('Gênero')\n",
    "plt.ylabel('Percentual (%)')\n",
    "plt.legend(title='Churn')\n",
    "plt.show()\n",
    "\n"
   ]
  },
  {
   "cell_type": "markdown",
   "metadata": {
    "id": "_7uvnGdLL3cR"
   },
   "source": []
  },
  {
   "cell_type": "code",
   "execution_count": 22,
   "metadata": {
    "colab": {
     "base_uri": "https://localhost:8080/",
     "height": 750
    },
    "id": "X78L-uykcjZO",
    "outputId": "09630d45-83c1-4f2b-e67e-49f17a988ce2"
   },
   "outputs": [
    {
     "name": "stdout",
     "output_type": "stream",
     "text": [
      "Churn                  No        Yes\n",
      "Contract                            \n",
      "Month-to-month  57.290323  42.709677\n",
      "One year        88.730482  11.269518\n",
      "Two year        97.168142   2.831858\n"
     ]
    },
    {
     "data": {
      "image/png": "[encoded data removed]",
      "text/plain": [
       "<Figure size 1000x600 with 1 Axes>"
      ]
     },
     "metadata": {},
     "output_type": "display_data"
    }
   ],
   "source": [
    "# Proporção de churn por tipo de contrato\n",
    "churn_contract = df_clean.groupby(['Contract', 'Churn']).size().unstack()\n",
    "churn_contract_percent = churn_contract.div(churn_contract.sum(axis=1), axis=0) * 100\n",
    "print(churn_contract_percent)\n",
    "\n",
    "# Gráfico de barras empilhadas para churn por contrato\n",
    "churn_contract_percent.plot(kind='bar', stacked=True, figsize=(10,6))\n",
    "plt.title('Proporção de Churn por Tipo de Contrato')\n",
    "plt.xlabel('Tipo de Contrato')\n",
    "plt.ylabel('Percentual (%)')\n",
    "plt.legend(title='Churn')\n",
    "plt.show()\n",
    "\n",
    "\n",
    "\n"
   ]
  },
  {
   "cell_type": "code",
   "execution_count": 23,
   "metadata": {
    "colab": {
     "base_uri": "https://localhost:8080/",
     "height": 778
    },
    "id": "eZ99ZbfSckjt",
    "outputId": "75c80b74-e942-4d76-cbda-921286ca7e9c"
   },
   "outputs": [
    {
     "name": "stdout",
     "output_type": "stream",
     "text": [
      "Churn               No        Yes\n",
      "TenureGroup                      \n",
      "0-12 meses   51.715805  48.284195\n",
      "13-24 meses  70.487106  29.512894\n",
      "25-48 meses  79.125616  20.874384\n",
      "49-60 meses  85.000000  15.000000\n",
      "61-72 meses  91.703836   8.296164\n",
      "72+ meses    98.342541   1.657459\n"
     ]
    },
    {
     "data": {
      "image/png": "[encoded data removed]",
      "text/plain": [
       "<Figure size 1000x600 with 1 Axes>"
      ]
     },
     "metadata": {},
     "output_type": "display_data"
    }
   ],
   "source": [
    "# Criar faixas de tempo de contrato (tenure)\n",
    "bins = [0, 12, 24, 48, 60, 72, 1000]\n",
    "labels = ['0-12 meses', '13-24 meses', '25-48 meses', '49-60 meses', '61-72 meses', '72+ meses']\n",
    "\n",
    "df_clean['TenureGroup'] = pd.cut(df_clean['tenure'], bins=bins, labels=labels, right=False)\n",
    "\n",
    "# Ver a distribuição por TenureGroup x Churn\n",
    "tenure_churn = pd.crosstab(df_clean['TenureGroup'], df_clean['Churn'], normalize='index') * 100\n",
    "\n",
    "print(tenure_churn)\n",
    "\n",
    "# Gráfico de barras empilhadas\n",
    "tenure_churn.plot(kind='bar', stacked=True, figsize=(10,6), colormap='Paired')\n",
    "plt.title('Churn (%) por Faixa de Tempo como Cliente (Tenure)')\n",
    "plt.ylabel('Porcentagem (%)')\n",
    "plt.xlabel('Faixa de Tenure')\n",
    "plt.legend(title='Churn')\n",
    "plt.show()\n"
   ]
  },
  {
   "cell_type": "code",
   "execution_count": null,
   "metadata": {
    "colab": {
     "base_uri": "https://localhost:8080/",
     "height": 778
    },
    "id": "a3MkxkOfiBjp",
    "outputId": "5f384caa-91c2-4f3f-c38f-fbc2a8e44b8a"
   },
   "outputs": [
    {
     "name": "stdout",
     "output_type": "stream",
     "text": [
      "Churn               No        Yes\n",
      "TenureGroup                      \n",
      "0-12 meses   51.715805  48.284195\n",
      "13-24 meses  70.487106  29.512894\n",
      "25-48 meses  79.125616  20.874384\n",
      "49-60 meses  85.000000  15.000000\n",
      "61-72 meses  91.703836   8.296164\n",
      "72+ meses    98.342541   1.657459\n"
     ]
    }
   ],
   "source": [
    "\n",
    "import matplotlib.pyplot as plt\n",
    "\n",
    "# Criar faixas de tempo de contrato (tenure)\n",
    "bins = [0, 12, 24, 48, 60, 72, 1000]\n",
    "labels = ['0-12 meses', '13-24 meses', '25-48 meses', '49-60 meses', '61-72 meses', '72+ meses']\n",
    "\n",
    "df_clean['TenureGroup'] = pd.cut(df_clean['tenure'], bins=bins, labels=labels, right=False)\n",
    "\n",
    "# Ver a distribuição por TenureGroup x Churn\n",
    "tenure_churn = pd.crosstab(df_clean['TenureGroup'], df_clean['Churn'], normalize='index') * 100\n",
    "\n",
    "print(tenure_churn)\n",
    "\n",
    "# Gráfico de barras empilhadas\n",
    "tenure_churn.plot(kind='bar', stacked=True, figsize=(10,6), colormap='Paired')\n",
    "plt.title('Churn (%) por Faixa de Tempo como Cliente (Tenure)')\n",
    "plt.ylabel('Porcentagem (%)')\n",
    "plt.xlabel('Faixa de Tenure')\n",
    "plt.legend(title='Churn')\n",
    "plt.show()\n"
   ]
  },
  {
   "cell_type": "code",
   "execution_count": null,
   "metadata": {
    "colab": {
     "base_uri": "https://localhost:8080/",
     "height": 565
    },
    "id": "FMWW1UEIiJrw",
    "outputId": "5914fdf9-fa17-4e19-dd62-bda2256afc92"
   },
   "outputs": [],
   "source": [
    "import seaborn as sns\n",
    "import matplotlib.pyplot as plt\n",
    "\n",
    "plt.figure(figsize=(10,6))\n",
    "sns.histplot(data=df_clean, x='tenure', hue='Churn', multiple='stack', kde=True)\n",
    "plt.title('Distribuição do tempo de permanência por Churn')\n",
    "plt.xlabel('Meses de permanência')\n",
    "plt.ylabel('Número de clientes')\n",
    "plt.show()\n"
   ]
  },
  {
   "cell_type": "code",
   "execution_count": null,
   "metadata": {
    "colab": {
     "base_uri": "https://localhost:8080/",
     "height": 803
    },
    "id": "OKD_KY3Wi1Ww",
    "outputId": "da173377-5255-4fac-fa16-ec8e7585d8f4"
   },
   "outputs": [],
   "source": [
    "plt.figure(figsize=(6, 4))\n",
    "sns.kdeplot(data=df_clean, x='MonthlyCharges', hue='Churn', fill=True)\n",
    "plt.title('Distribuição de Custo Mensal por Churn')\n",
    "plt.xlabel('Monthly Charges')\n",
    "plt.grid(True)\n",
    "plt.show()\n",
    "\n",
    "# Gráfico 5 – Distribuição do TotalCharges por Churn\n",
    "plt.figure(figsize=(6, 4))\n",
    "sns.kdeplot(data=df_clean, x='TotalCharges', hue='Churn', fill=True)\n",
    "plt.title('Distribuição de Custo Total por Churn')\n",
    "plt.xlabel('Total Charges')\n",
    "plt.grid(True)\n",
    "plt.show()"
   ]
  },
  {
   "cell_type": "code",
   "execution_count": null,
   "metadata": {
    "colab": {
     "base_uri": "https://localhost:8080/",
     "height": 504
    },
    "id": "87VYLDdXjiKw",
    "outputId": "ce2d6215-dda8-4f84-cf58-aeb35f005eda"
   },
   "outputs": [],
   "source": [
    "plt.figure(figsize=(6, 4))\n",
    "df_clean.groupby('Contract')['Churn'].value_counts(normalize=True).unstack().mul(100).plot(kind='bar', stacked=True, color=['skyblue', 'salmon'])\n",
    "plt.title('Proporção de Churn por Tipo de Contrato')\n",
    "plt.ylabel('% de Clientes')\n",
    "plt.xlabel('Tipo de Contrato')\n",
    "plt.xticks(rotation=0)\n",
    "plt.legend(title='Churn')\n",
    "plt.grid(axis='y')\n",
    "plt.tight_layout()\n",
    "plt.show()"
   ]
  },
  {
   "cell_type": "code",
   "execution_count": null,
   "metadata": {
    "id": "tutBgIFCjyYP"
   },
   "outputs": [],
   "source": []
  },
  {
   "cell_type": "markdown",
   "metadata": {
    "id": "OyUMCU5_bQOc"
   },
   "source": [
    "**Relatório Final**\n",
    "\n",
    "📉 Relatório de Análises — Churn Telecom X\n",
    "1. Distribuição Geral do Churn\n",
    "Cerca de 26,5% dos clientes cancelaram o serviço, indicando uma taxa de churn relevante para a empresa.\n",
    "\n",
    "73,5% dos clientes permanecem ativos, o que reforça a necessidade de estratégias para reduzir a evasão.\n",
    "\n",
    "2. Churn por Gênero\n",
    "A diferença no churn entre homens e mulheres é mínima.\n",
    "\n",
    "Gênero não parece ser um fator determinante para a saída dos clientes.\n",
    "\n",
    "3. Churn por Tipo de Contrato\n",
    "Clientes com contrato mensal apresentam uma taxa de churn alta (~42,7%).\n",
    "\n",
    "Contratos de longo prazo (1 ou 2 anos) apresentam churn significativamente menor.\n",
    "\n",
    "Recomenda-se incentivar contratos mais longos para aumentar a retenção.\n",
    "\n",
    "4. Relação entre Custo Mensal e Churn\n",
    "Clientes que cancelam tendem a ter custos mensais mais elevados.\n",
    "\n",
    "Valores altos na mensalidade podem estar associados a maior probabilidade de evasão.\n",
    "\n",
    "5. Relação entre Custo Total e Churn\n",
    "Clientes que permanecem têm um total de cobrança maior, indicando maior tempo de permanência.\n",
    "\n",
    "Clientes com menor total cobrado têm maior propensão a sair.\n",
    "\n",
    "Fidelizar clientes nos primeiros meses pode reduzir o churn.\n",
    "\n",
    "✅ Conclusões\n",
    "Contratos mensais e mensalidades altas são os principais fatores associados ao churn.\n",
    "\n",
    "Gênero não é um fator relevante para a análise de evasão.\n",
    "\n",
    "Clientes antigos tendem a permanecer, mostrando que aumentar o tempo de permanência é chave.\n",
    "\n",
    "Estratégias de retenção devem focar em oferecer benefícios para contratos longos, rever preços e valorizar clientes novos com serviços adicionais.\n",
    "\n"
   ]
  }
 ],
 "metadata": {
  "colab": {
   "authorship_tag": "ABX9TyNuqYAulGR0+OLOjrDnU2EC",
   "include_colab_link": true,
   "provenance": []
  },
  "kernelspec": {
   "display_name": "Python 3 (ipykernel)",
   "language": "python",
   "name": "python3"
  },
  "language_info": {
   "codemirror_mode": {
    "name": "ipython",
    "version": 3
   },
   "file_extension": ".py",
   "mimetype": "text/x-python",
   "name": "python",
   "nbconvert_exporter": "python",
   "pygments_lexer": "ipython3",
   "version": "3.13.1"
  }
 },
 "nbformat": 4,
 "nbformat_minor": 4
}
