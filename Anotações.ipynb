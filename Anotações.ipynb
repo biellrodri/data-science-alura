{
 "cells": [
  {
   "cell_type": "markdown",
   "id": "7b3a0b38-e82f-4b36-848b-3e29e2d98387",
   "metadata": {},
   "source": [
    "# Anotações"
   ]
  },
  {
   "cell_type": "markdown",
   "id": "3128f1b0-bb58-4c56-aa41-4ad0844b3503",
   "metadata": {},
   "source": [
    "## Cópia de Arrays\n",
    "\n",
    "Ao trabalharmos com arrays ou outras variáveis em Python, eventualmente fazemos cópias das variáveis que estamos lidando. Quando fazemos a cópia de uma variável, temos que ter em mente o que acontece com ela para evitar que usemos determinados valores pensando que são outros valores. Para lidar com cópias dos arrays, a biblioteca Numpy possui uma função específica.\n",
    "\n",
    "Neste exemplo, possuo um array com o nome preco_imoveis que desejo fazer uma cópia.\n",
    "\n"
   ]
  },
  {
   "cell_type": "code",
   "execution_count": 1,
   "id": "0736f7f9-88ae-4646-8b4c-cc20f7b15048",
   "metadata": {},
   "outputs": [],
   "source": [
    "import numpy as np"
   ]
  },
  {
   "cell_type": "code",
   "execution_count": 2,
   "id": "966eed5c-4508-42e2-876d-b88a4e24a48f",
   "metadata": {},
   "outputs": [],
   "source": [
    "preco_imoveis = np.array([10000,120000,11000,200000])"
   ]
  },
  {
   "cell_type": "code",
   "execution_count": 3,
   "id": "01f9ef1a-6472-4a04-bd92-6d6d232fa986",
   "metadata": {},
   "outputs": [],
   "source": [
    "preco_imoveis_sao_paulo = np.copy(preco_imoveis)"
   ]
  },
  {
   "cell_type": "markdown",
   "id": "013eee6f-02a0-45d3-bf06-1903d7f9b770",
   "metadata": {},
   "source": [
    "O objetivo é colocar os valores deste array em um de nome específico para o preço de imóveis em São Paulo. Vamos fazer a cópia usando o sinal de igual (=)."
   ]
  },
  {
   "cell_type": "code",
   "execution_count": 4,
   "id": "c09028f0-0e20-4707-a194-60c974125641",
   "metadata": {},
   "outputs": [],
   "source": [
    "preco_imoveis_sao_paulo = preco_imoveis"
   ]
  },
  {
   "cell_type": "markdown",
   "id": "09add98a-6f12-49ea-92a5-702ac2251802",
   "metadata": {},
   "source": [
    "Se você verificar os valores na nova variável preco_imoveis_sao_paulo, verá que eles são os mesmos da variável preco_imoveis. Mas, já que \"guardamos\" os preços na variável preco_imoveis_sao_paulo, que tal substituir o valor do primeiro imóvel do array preco_imoveis com um novo que acabou de entrar para o nosso cadastro?"
   ]
  },
  {
   "cell_type": "code",
   "execution_count": 5,
   "id": "30fac000-b630-4fe8-b327-6e4a8f2e012c",
   "metadata": {},
   "outputs": [],
   "source": [
    "preco_imoveis[0] = 120000"
   ]
  },
  {
   "cell_type": "markdown",
   "id": "70a16bde-ad56-4a92-b62e-89a56ca65e69",
   "metadata": {},
   "source": [
    "Se você tentar reproduzir o processo feito até agora, verá que essa alteração no array preco_imoveis também alterou a primeira posição do array preco_imoveis_sao_paulo para o valor de 120000.\n"
   ]
  },
  {
   "cell_type": "code",
   "execution_count": 6,
   "id": "6536c689-07a3-442e-bf3c-c0e761b5b459",
   "metadata": {},
   "outputs": [
    {
     "data": {
      "text/plain": [
       "array([120000, 120000,  11000, 200000])"
      ]
     },
     "execution_count": 6,
     "metadata": {},
     "output_type": "execute_result"
    }
   ],
   "source": [
    "preco_imoveis_sao_paulo"
   ]
  },
  {
   "cell_type": "markdown",
   "id": "bba1c40d-4022-4b6a-b4e3-a6ea0601e7dc",
   "metadata": {},
   "source": [
    "Para criar um array desvinculado do array original existe uma função da numpy, a np.copy(). Para criar a cópia utilizando ela bastaria seguir esse código:"
   ]
  },
  {
   "cell_type": "code",
   "execution_count": 8,
   "id": "a6598c71-9e5e-42d4-b46f-7a24739d45f5",
   "metadata": {},
   "outputs": [],
   "source": [
    "preco_imoveis_sao_paulo = np.copy(preco_imoveis)"
   ]
  },
  {
   "cell_type": "markdown",
   "id": "53f7b019-967c-4acf-b45b-724d04230710",
   "metadata": {},
   "source": [
    "# Gerando números aleatórios para calcular os coeficientes angulares"
   ]
  },
  {
   "cell_type": "markdown",
   "id": "7cba8ac1-4400-4c23-9250-72a22169a98d",
   "metadata": {},
   "source": [
    "A geração de números aleatórios e a determinação dos coeficientes angulares são importantes por vários motivos, especialmente no contexto de análise de dados e modelagem.\n",
    "\n",
    "Geração de Números Aleatórios:\n",
    "\n",
    "Simulação e Modelagem: Em muitos cenários, precisamos simular eventos ou processos que têm um componente aleatório. Por exemplo, em simulações de Monte Carlo, geramos números aleatórios para modelar a probabilidade de diferentes resultados.\n",
    "Testes e Validação: Números aleatórios são usados para criar conjuntos de dados de teste que ajudam a validar algoritmos e modelos. Isso é crucial para garantir que um modelo funcione bem em diferentes cenários.\n",
    "Otimização: Em algoritmos de otimização, como o método de Monte Carlo ou algoritmos genéticos, números aleatórios são usados para explorar diferentes soluções possíveis.\n",
    "Amostragem: Em estatística, a amostragem aleatória é usada para coletar um subconjunto representativo de dados de uma população maior.\n",
    "Coeficientes Angulares:\n",
    "\n",
    "Modelagem de Relações Lineares: O coeficiente angular (ou inclinação) é fundamental para entender a relação entre duas variáveis em um modelo linear. Ele indica como uma variável dependente muda em resposta a uma mudança na variável independente.\n",
    "Previsão: Em modelos de regressão linear, o coeficiente angular é usado para fazer previsões. Por exemplo, se você sabe o coeficiente angular entre o número de horas estudadas e a nota em um exame, pode prever a nota de um aluno com base em quantas horas ele estudou.\n",
    "Análise de Sensibilidade: O coeficiente angular permite analisar a sensibilidade de um modelo. Ele mostra o quão sensível a variável dependente é a mudanças na variável independente.\n",
    "Interpretação: Em muitos contextos, o coeficiente angular tem uma interpretação direta e útil. Por exemplo, em um modelo que relaciona o gasto com publicidade e as vendas, o coeficiente angular pode indicar o aumento nas vendas para cada real gasto em publicidade.\n",
    "Por que o Menor Número Gerado é o Resultado Ideal?\n",
    "\n",
    "No contexto específico da aula e do problema de regressão linear que você mencionou, o objetivo é encontrar o coeficiente angular que melhor se ajusta aos dados. Isso é feito minimizando a diferença entre os valores reais e os valores previstos pelo modelo.\n",
    "\n",
    "Norma como Medida de Erro: A norma (geralmente a norma L2, ou distância euclidiana) é usada para quantificar essa diferença. Quanto menor a norma, mais próximos estão os valores previstos dos valores reais.\n",
    "Ajuste do Modelo: Ao gerar vários coeficientes angulares aleatórios e calcular a norma para cada um, estamos essencialmente testando diferentes \"ajustes\" do modelo aos dados. O coeficiente angular que resulta na menor norma é o que melhor se ajusta aos dados, ou seja, minimiza o erro entre as previsões do modelo e os valores reais.\n",
    "Otimização: Este processo é uma forma simplificada de otimização. Estamos buscando o valor do coeficiente angular que otimiza (minimiza) uma função objetivo (a norma).\n",
    "Em resumo, a geração de números aleatórios permite explorar diferentes soluções e testar hipóteses, enquanto os coeficientes angulares são cruciais para modelar e entender relações lineares. O menor número gerado (a menor norma) indica o melhor ajuste do modelo aos dados, pois representa o menor erro entre os valores previstos e os valores reais."
   ]
  },
  {
   "cell_type": "code",
   "execution_count": null,
   "id": "91e2432c-0abc-427f-9a6d-b27a4c9648ac",
   "metadata": {},
   "outputs": [],
   "source": []
  }
 ],
 "metadata": {
  "kernelspec": {
   "display_name": "Python 3 (ipykernel)",
   "language": "python",
   "name": "python3"
  },
  "language_info": {
   "codemirror_mode": {
    "name": "ipython",
    "version": 3
   },
   "file_extension": ".py",
   "mimetype": "text/x-python",
   "name": "python",
   "nbconvert_exporter": "python",
   "pygments_lexer": "ipython3",
   "version": "3.13.1"
  }
 },
 "nbformat": 4,
 "nbformat_minor": 5
}
