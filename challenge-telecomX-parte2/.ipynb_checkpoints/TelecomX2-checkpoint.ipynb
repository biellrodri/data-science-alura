{
  "nbformat": 4,
  "nbformat_minor": 0,
  "metadata": {
    "colab": {
      "provenance": [],
      "authorship_tag": "ABX9TyNdOzyzjPhYZvttzGbPiJyd",
      "include_colab_link": true
    },
    "kernelspec": {
      "name": "python3",
      "display_name": "Python 3"
    },
    "language_info": {
      "name": "python"
    }
  },
  "cells": [
    {
      "cell_type": "markdown",
      "metadata": {
        "id": "view-in-github",
        "colab_type": "text"
      },
      "source": [
        "<a href=\"https://colab.research.google.com/github/MilenaSimionee/TelecomX2/blob/main/TelecomX2.ipynb\" target=\"_parent\"><img src=\"https://colab.research.google.com/assets/colab-badge.svg\" alt=\"Open In Colab\"/></a>"
      ]
    },
    {
      "cell_type": "code",
      "execution_count": 1,
      "metadata": {
        "id": "WGbYqPtdrX79"
      },
      "outputs": [],
      "source": [
        "import pandas as pd"
      ]
    },
    {
      "cell_type": "code",
      "source": [
        "# Carregando os dados do challenge 1\n",
        "url = \"https://raw.githubusercontent.com/MilenaSimionee/TelecomX/refs/heads/main/telecom_churn_tratado.csv\"\n",
        "df = pd.read_csv(url)"
      ],
      "metadata": {
        "id": "tW6tS738rbGk"
      },
      "execution_count": 2,
      "outputs": []
    },
    {
      "cell_type": "code",
      "source": [
        "df.head()\n"
      ],
      "metadata": {
        "id": "8FBtwK_irnly",
        "colab": {
          "base_uri": "https://localhost:8080/",
          "height": 342
        },
        "outputId": "4cac2992-9a78-416b-d10a-8ccf4bb426b2"
      },
      "execution_count": 3,
      "outputs": [
        {
          "output_type": "execute_result",
          "data": {
            "text/plain": [
              "   customerID Churn  gender  SeniorCitizen Partner Dependents  tenure  \\\n",
              "0  0002-ORFBO    No  Female              0     Yes        Yes       9   \n",
              "1  0003-MKNFE    No    Male              0      No         No       9   \n",
              "2  0004-TLHLJ   Yes    Male              0      No         No       4   \n",
              "3  0011-IGKFF   Yes    Male              1     Yes         No      13   \n",
              "4  0013-EXCHZ   Yes  Female              1     Yes         No       3   \n",
              "\n",
              "  PhoneService MultipleLines InternetService  ... DeviceProtection  \\\n",
              "0          Yes            No             DSL  ...               No   \n",
              "1          Yes           Yes             DSL  ...               No   \n",
              "2          Yes            No     Fiber optic  ...              Yes   \n",
              "3          Yes            No     Fiber optic  ...              Yes   \n",
              "4          Yes            No     Fiber optic  ...               No   \n",
              "\n",
              "  TechSupport StreamingTV StreamingMovies        Contract PaperlessBilling  \\\n",
              "0         Yes         Yes              No        One year              Yes   \n",
              "1          No          No             Yes  Month-to-month               No   \n",
              "2          No          No              No  Month-to-month              Yes   \n",
              "3          No         Yes             Yes  Month-to-month              Yes   \n",
              "4         Yes         Yes              No  Month-to-month              Yes   \n",
              "\n",
              "      PaymentMethod MonthlyCharges TotalCharges  TenureGroup  \n",
              "0      Mailed check           65.6       593.30   0-12 meses  \n",
              "1      Mailed check           59.9       542.40   0-12 meses  \n",
              "2  Electronic check           73.9       280.85   0-12 meses  \n",
              "3  Electronic check           98.0      1237.85  13-24 meses  \n",
              "4      Mailed check           83.9       267.40   0-12 meses  \n",
              "\n",
              "[5 rows x 22 columns]"
            ],
            "text/html": [
              "\n",
              "  <div id=\"df-dec90c6a-ee01-481a-b427-4de22f4acc18\" class=\"colab-df-container\">\n",
              "    <div>\n",
              "<style scoped>\n",
              "    .dataframe tbody tr th:only-of-type {\n",
              "        vertical-align: middle;\n",
              "    }\n",
              "\n",
              "    .dataframe tbody tr th {\n",
              "        vertical-align: top;\n",
              "    }\n",
              "\n",
              "    .dataframe thead th {\n",
              "        text-align: right;\n",
              "    }\n",
              "</style>\n",
              "<table border=\"1\" class=\"dataframe\">\n",
              "  <thead>\n",
              "    <tr style=\"text-align: right;\">\n",
              "      <th></th>\n",
              "      <th>customerID</th>\n",
              "      <th>Churn</th>\n",
              "      <th>gender</th>\n",
              "      <th>SeniorCitizen</th>\n",
              "      <th>Partner</th>\n",
              "      <th>Dependents</th>\n",
              "      <th>tenure</th>\n",
              "      <th>PhoneService</th>\n",
              "      <th>MultipleLines</th>\n",
              "      <th>InternetService</th>\n",
              "      <th>...</th>\n",
              "      <th>DeviceProtection</th>\n",
              "      <th>TechSupport</th>\n",
              "      <th>StreamingTV</th>\n",
              "      <th>StreamingMovies</th>\n",
              "      <th>Contract</th>\n",
              "      <th>PaperlessBilling</th>\n",
              "      <th>PaymentMethod</th>\n",
              "      <th>MonthlyCharges</th>\n",
              "      <th>TotalCharges</th>\n",
              "      <th>TenureGroup</th>\n",
              "    </tr>\n",
              "  </thead>\n",
              "  <tbody>\n",
              "    <tr>\n",
              "      <th>0</th>\n",
              "      <td>0002-ORFBO</td>\n",
              "      <td>No</td>\n",
              "      <td>Female</td>\n",
              "      <td>0</td>\n",
              "      <td>Yes</td>\n",
              "      <td>Yes</td>\n",
              "      <td>9</td>\n",
              "      <td>Yes</td>\n",
              "      <td>No</td>\n",
              "      <td>DSL</td>\n",
              "      <td>...</td>\n",
              "      <td>No</td>\n",
              "      <td>Yes</td>\n",
              "      <td>Yes</td>\n",
              "      <td>No</td>\n",
              "      <td>One year</td>\n",
              "      <td>Yes</td>\n",
              "      <td>Mailed check</td>\n",
              "      <td>65.6</td>\n",
              "      <td>593.30</td>\n",
              "      <td>0-12 meses</td>\n",
              "    </tr>\n",
              "    <tr>\n",
              "      <th>1</th>\n",
              "      <td>0003-MKNFE</td>\n",
              "      <td>No</td>\n",
              "      <td>Male</td>\n",
              "      <td>0</td>\n",
              "      <td>No</td>\n",
              "      <td>No</td>\n",
              "      <td>9</td>\n",
              "      <td>Yes</td>\n",
              "      <td>Yes</td>\n",
              "      <td>DSL</td>\n",
              "      <td>...</td>\n",
              "      <td>No</td>\n",
              "      <td>No</td>\n",
              "      <td>No</td>\n",
              "      <td>Yes</td>\n",
              "      <td>Month-to-month</td>\n",
              "      <td>No</td>\n",
              "      <td>Mailed check</td>\n",
              "      <td>59.9</td>\n",
              "      <td>542.40</td>\n",
              "      <td>0-12 meses</td>\n",
              "    </tr>\n",
              "    <tr>\n",
              "      <th>2</th>\n",
              "      <td>0004-TLHLJ</td>\n",
              "      <td>Yes</td>\n",
              "      <td>Male</td>\n",
              "      <td>0</td>\n",
              "      <td>No</td>\n",
              "      <td>No</td>\n",
              "      <td>4</td>\n",
              "      <td>Yes</td>\n",
              "      <td>No</td>\n",
              "      <td>Fiber optic</td>\n",
              "      <td>...</td>\n",
              "      <td>Yes</td>\n",
              "      <td>No</td>\n",
              "      <td>No</td>\n",
              "      <td>No</td>\n",
              "      <td>Month-to-month</td>\n",
              "      <td>Yes</td>\n",
              "      <td>Electronic check</td>\n",
              "      <td>73.9</td>\n",
              "      <td>280.85</td>\n",
              "      <td>0-12 meses</td>\n",
              "    </tr>\n",
              "    <tr>\n",
              "      <th>3</th>\n",
              "      <td>0011-IGKFF</td>\n",
              "      <td>Yes</td>\n",
              "      <td>Male</td>\n",
              "      <td>1</td>\n",
              "      <td>Yes</td>\n",
              "      <td>No</td>\n",
              "      <td>13</td>\n",
              "      <td>Yes</td>\n",
              "      <td>No</td>\n",
              "      <td>Fiber optic</td>\n",
              "      <td>...</td>\n",
              "      <td>Yes</td>\n",
              "      <td>No</td>\n",
              "      <td>Yes</td>\n",
              "      <td>Yes</td>\n",
              "      <td>Month-to-month</td>\n",
              "      <td>Yes</td>\n",
              "      <td>Electronic check</td>\n",
              "      <td>98.0</td>\n",
              "      <td>1237.85</td>\n",
              "      <td>13-24 meses</td>\n",
              "    </tr>\n",
              "    <tr>\n",
              "      <th>4</th>\n",
              "      <td>0013-EXCHZ</td>\n",
              "      <td>Yes</td>\n",
              "      <td>Female</td>\n",
              "      <td>1</td>\n",
              "      <td>Yes</td>\n",
              "      <td>No</td>\n",
              "      <td>3</td>\n",
              "      <td>Yes</td>\n",
              "      <td>No</td>\n",
              "      <td>Fiber optic</td>\n",
              "      <td>...</td>\n",
              "      <td>No</td>\n",
              "      <td>Yes</td>\n",
              "      <td>Yes</td>\n",
              "      <td>No</td>\n",
              "      <td>Month-to-month</td>\n",
              "      <td>Yes</td>\n",
              "      <td>Mailed check</td>\n",
              "      <td>83.9</td>\n",
              "      <td>267.40</td>\n",
              "      <td>0-12 meses</td>\n",
              "    </tr>\n",
              "  </tbody>\n",
              "</table>\n",
              "<p>5 rows × 22 columns</p>\n",
              "</div>\n",
              "    <div class=\"colab-df-buttons\">\n",
              "\n",
              "  <div class=\"colab-df-container\">\n",
              "    <button class=\"colab-df-convert\" onclick=\"convertToInteractive('df-dec90c6a-ee01-481a-b427-4de22f4acc18')\"\n",
              "            title=\"Convert this dataframe to an interactive table.\"\n",
              "            style=\"display:none;\">\n",
              "\n",
              "  <svg xmlns=\"http://www.w3.org/2000/svg\" height=\"24px\" viewBox=\"0 -960 960 960\">\n",
              "    <path d=\"M120-120v-720h720v720H120Zm60-500h600v-160H180v160Zm220 220h160v-160H400v160Zm0 220h160v-160H400v160ZM180-400h160v-160H180v160Zm440 0h160v-160H620v160ZM180-180h160v-160H180v160Zm440 0h160v-160H620v160Z\"/>\n",
              "  </svg>\n",
              "    </button>\n",
              "\n",
              "  <style>\n",
              "    .colab-df-container {\n",
              "      display:flex;\n",
              "      gap: 12px;\n",
              "    }\n",
              "\n",
              "    .colab-df-convert {\n",
              "      background-color: #E8F0FE;\n",
              "      border: none;\n",
              "      border-radius: 50%;\n",
              "      cursor: pointer;\n",
              "      display: none;\n",
              "      fill: #1967D2;\n",
              "      height: 32px;\n",
              "      padding: 0 0 0 0;\n",
              "      width: 32px;\n",
              "    }\n",
              "\n",
              "    .colab-df-convert:hover {\n",
              "      background-color: #E2EBFA;\n",
              "      box-shadow: 0px 1px 2px rgba(60, 64, 67, 0.3), 0px 1px 3px 1px rgba(60, 64, 67, 0.15);\n",
              "      fill: #174EA6;\n",
              "    }\n",
              "\n",
              "    .colab-df-buttons div {\n",
              "      margin-bottom: 4px;\n",
              "    }\n",
              "\n",
              "    [theme=dark] .colab-df-convert {\n",
              "      background-color: #3B4455;\n",
              "      fill: #D2E3FC;\n",
              "    }\n",
              "\n",
              "    [theme=dark] .colab-df-convert:hover {\n",
              "      background-color: #434B5C;\n",
              "      box-shadow: 0px 1px 3px 1px rgba(0, 0, 0, 0.15);\n",
              "      filter: drop-shadow(0px 1px 2px rgba(0, 0, 0, 0.3));\n",
              "      fill: #FFFFFF;\n",
              "    }\n",
              "  </style>\n",
              "\n",
              "    <script>\n",
              "      const buttonEl =\n",
              "        document.querySelector('#df-dec90c6a-ee01-481a-b427-4de22f4acc18 button.colab-df-convert');\n",
              "      buttonEl.style.display =\n",
              "        google.colab.kernel.accessAllowed ? 'block' : 'none';\n",
              "\n",
              "      async function convertToInteractive(key) {\n",
              "        const element = document.querySelector('#df-dec90c6a-ee01-481a-b427-4de22f4acc18');\n",
              "        const dataTable =\n",
              "          await google.colab.kernel.invokeFunction('convertToInteractive',\n",
              "                                                    [key], {});\n",
              "        if (!dataTable) return;\n",
              "\n",
              "        const docLinkHtml = 'Like what you see? Visit the ' +\n",
              "          '<a target=\"_blank\" href=https://colab.research.google.com/notebooks/data_table.ipynb>data table notebook</a>'\n",
              "          + ' to learn more about interactive tables.';\n",
              "        element.innerHTML = '';\n",
              "        dataTable['output_type'] = 'display_data';\n",
              "        await google.colab.output.renderOutput(dataTable, element);\n",
              "        const docLink = document.createElement('div');\n",
              "        docLink.innerHTML = docLinkHtml;\n",
              "        element.appendChild(docLink);\n",
              "      }\n",
              "    </script>\n",
              "  </div>\n",
              "\n",
              "\n",
              "    <div id=\"df-baecc829-29cd-46c2-8a0e-fcaf56fbd16d\">\n",
              "      <button class=\"colab-df-quickchart\" onclick=\"quickchart('df-baecc829-29cd-46c2-8a0e-fcaf56fbd16d')\"\n",
              "                title=\"Suggest charts\"\n",
              "                style=\"display:none;\">\n",
              "\n",
              "<svg xmlns=\"http://www.w3.org/2000/svg\" height=\"24px\"viewBox=\"0 0 24 24\"\n",
              "     width=\"24px\">\n",
              "    <g>\n",
              "        <path d=\"M19 3H5c-1.1 0-2 .9-2 2v14c0 1.1.9 2 2 2h14c1.1 0 2-.9 2-2V5c0-1.1-.9-2-2-2zM9 17H7v-7h2v7zm4 0h-2V7h2v10zm4 0h-2v-4h2v4z\"/>\n",
              "    </g>\n",
              "</svg>\n",
              "      </button>\n",
              "\n",
              "<style>\n",
              "  .colab-df-quickchart {\n",
              "      --bg-color: #E8F0FE;\n",
              "      --fill-color: #1967D2;\n",
              "      --hover-bg-color: #E2EBFA;\n",
              "      --hover-fill-color: #174EA6;\n",
              "      --disabled-fill-color: #AAA;\n",
              "      --disabled-bg-color: #DDD;\n",
              "  }\n",
              "\n",
              "  [theme=dark] .colab-df-quickchart {\n",
              "      --bg-color: #3B4455;\n",
              "      --fill-color: #D2E3FC;\n",
              "      --hover-bg-color: #434B5C;\n",
              "      --hover-fill-color: #FFFFFF;\n",
              "      --disabled-bg-color: #3B4455;\n",
              "      --disabled-fill-color: #666;\n",
              "  }\n",
              "\n",
              "  .colab-df-quickchart {\n",
              "    background-color: var(--bg-color);\n",
              "    border: none;\n",
              "    border-radius: 50%;\n",
              "    cursor: pointer;\n",
              "    display: none;\n",
              "    fill: var(--fill-color);\n",
              "    height: 32px;\n",
              "    padding: 0;\n",
              "    width: 32px;\n",
              "  }\n",
              "\n",
              "  .colab-df-quickchart:hover {\n",
              "    background-color: var(--hover-bg-color);\n",
              "    box-shadow: 0 1px 2px rgba(60, 64, 67, 0.3), 0 1px 3px 1px rgba(60, 64, 67, 0.15);\n",
              "    fill: var(--button-hover-fill-color);\n",
              "  }\n",
              "\n",
              "  .colab-df-quickchart-complete:disabled,\n",
              "  .colab-df-quickchart-complete:disabled:hover {\n",
              "    background-color: var(--disabled-bg-color);\n",
              "    fill: var(--disabled-fill-color);\n",
              "    box-shadow: none;\n",
              "  }\n",
              "\n",
              "  .colab-df-spinner {\n",
              "    border: 2px solid var(--fill-color);\n",
              "    border-color: transparent;\n",
              "    border-bottom-color: var(--fill-color);\n",
              "    animation:\n",
              "      spin 1s steps(1) infinite;\n",
              "  }\n",
              "\n",
              "  @keyframes spin {\n",
              "    0% {\n",
              "      border-color: transparent;\n",
              "      border-bottom-color: var(--fill-color);\n",
              "      border-left-color: var(--fill-color);\n",
              "    }\n",
              "    20% {\n",
              "      border-color: transparent;\n",
              "      border-left-color: var(--fill-color);\n",
              "      border-top-color: var(--fill-color);\n",
              "    }\n",
              "    30% {\n",
              "      border-color: transparent;\n",
              "      border-left-color: var(--fill-color);\n",
              "      border-top-color: var(--fill-color);\n",
              "      border-right-color: var(--fill-color);\n",
              "    }\n",
              "    40% {\n",
              "      border-color: transparent;\n",
              "      border-right-color: var(--fill-color);\n",
              "      border-top-color: var(--fill-color);\n",
              "    }\n",
              "    60% {\n",
              "      border-color: transparent;\n",
              "      border-right-color: var(--fill-color);\n",
              "    }\n",
              "    80% {\n",
              "      border-color: transparent;\n",
              "      border-right-color: var(--fill-color);\n",
              "      border-bottom-color: var(--fill-color);\n",
              "    }\n",
              "    90% {\n",
              "      border-color: transparent;\n",
              "      border-bottom-color: var(--fill-color);\n",
              "    }\n",
              "  }\n",
              "</style>\n",
              "\n",
              "      <script>\n",
              "        async function quickchart(key) {\n",
              "          const quickchartButtonEl =\n",
              "            document.querySelector('#' + key + ' button');\n",
              "          quickchartButtonEl.disabled = true;  // To prevent multiple clicks.\n",
              "          quickchartButtonEl.classList.add('colab-df-spinner');\n",
              "          try {\n",
              "            const charts = await google.colab.kernel.invokeFunction(\n",
              "                'suggestCharts', [key], {});\n",
              "          } catch (error) {\n",
              "            console.error('Error during call to suggestCharts:', error);\n",
              "          }\n",
              "          quickchartButtonEl.classList.remove('colab-df-spinner');\n",
              "          quickchartButtonEl.classList.add('colab-df-quickchart-complete');\n",
              "        }\n",
              "        (() => {\n",
              "          let quickchartButtonEl =\n",
              "            document.querySelector('#df-baecc829-29cd-46c2-8a0e-fcaf56fbd16d button');\n",
              "          quickchartButtonEl.style.display =\n",
              "            google.colab.kernel.accessAllowed ? 'block' : 'none';\n",
              "        })();\n",
              "      </script>\n",
              "    </div>\n",
              "\n",
              "    </div>\n",
              "  </div>\n"
            ],
            "application/vnd.google.colaboratory.intrinsic+json": {
              "type": "dataframe",
              "variable_name": "df"
            }
          },
          "metadata": {},
          "execution_count": 3
        }
      ]
    },
    {
      "cell_type": "code",
      "source": [
        "# Verificar se há valores faltantes por coluna\n",
        "print(\"Valores faltantes por coluna:\")\n",
        "print(df.isnull().sum())"
      ],
      "metadata": {
        "id": "EWTgSFRsrsGq",
        "colab": {
          "base_uri": "https://localhost:8080/"
        },
        "outputId": "44b143bb-1d0e-4ef2-9fb7-7bfd19bb51d7"
      },
      "execution_count": 4,
      "outputs": [
        {
          "output_type": "stream",
          "name": "stdout",
          "text": [
            "Valores faltantes por coluna:\n",
            "customerID           0\n",
            "Churn                0\n",
            "gender               0\n",
            "SeniorCitizen        0\n",
            "Partner              0\n",
            "Dependents           0\n",
            "tenure               0\n",
            "PhoneService         0\n",
            "MultipleLines        0\n",
            "InternetService      0\n",
            "OnlineSecurity       0\n",
            "OnlineBackup         0\n",
            "DeviceProtection     0\n",
            "TechSupport          0\n",
            "StreamingTV          0\n",
            "StreamingMovies      0\n",
            "Contract             0\n",
            "PaperlessBilling     0\n",
            "PaymentMethod        0\n",
            "MonthlyCharges       0\n",
            "TotalCharges        11\n",
            "TenureGroup          0\n",
            "dtype: int64\n"
          ]
        }
      ]
    },
    {
      "cell_type": "code",
      "source": [
        "df = df.dropna(subset=['TotalCharges'])"
      ],
      "metadata": {
        "id": "gC6hjIQysG7K"
      },
      "execution_count": 5,
      "outputs": []
    },
    {
      "cell_type": "code",
      "source": [
        "mediana = df['TotalCharges'].median()\n",
        "df['TotalCharges'].fillna(mediana, inplace=True)"
      ],
      "metadata": {
        "id": "OmtWa3q4sVCh",
        "colab": {
          "base_uri": "https://localhost:8080/"
        },
        "outputId": "308434c0-fe3d-4d1b-c778-c664e58a3c5e"
      },
      "execution_count": 6,
      "outputs": [
        {
          "output_type": "stream",
          "name": "stderr",
          "text": [
            "/tmp/ipython-input-6-1158152383.py:2: FutureWarning: A value is trying to be set on a copy of a DataFrame or Series through chained assignment using an inplace method.\n",
            "The behavior will change in pandas 3.0. This inplace method will never work because the intermediate object on which we are setting values always behaves as a copy.\n",
            "\n",
            "For example, when doing 'df[col].method(value, inplace=True)', try using 'df.method({col: value}, inplace=True)' or df[col] = df[col].method(value) instead, to perform the operation inplace on the original object.\n",
            "\n",
            "\n",
            "  df['TotalCharges'].fillna(mediana, inplace=True)\n"
          ]
        }
      ]
    },
    {
      "cell_type": "code",
      "source": [
        "mediana = df['TotalCharges'].median()\n",
        "df['TotalCharges'] = df['TotalCharges'].fillna(mediana)"
      ],
      "metadata": {
        "id": "qOV5YkC8saWx"
      },
      "execution_count": 7,
      "outputs": []
    },
    {
      "cell_type": "code",
      "source": [
        "print(\"Valores faltantes por coluna após o preenchimento:\")\n",
        "print(df.isnull().sum())\n"
      ],
      "metadata": {
        "id": "3cikrNSPspnh",
        "colab": {
          "base_uri": "https://localhost:8080/"
        },
        "outputId": "9992dc70-ad29-4d97-befd-f0f92c7dbbcc"
      },
      "execution_count": 8,
      "outputs": [
        {
          "output_type": "stream",
          "name": "stdout",
          "text": [
            "Valores faltantes por coluna após o preenchimento:\n",
            "customerID          0\n",
            "Churn               0\n",
            "gender              0\n",
            "SeniorCitizen       0\n",
            "Partner             0\n",
            "Dependents          0\n",
            "tenure              0\n",
            "PhoneService        0\n",
            "MultipleLines       0\n",
            "InternetService     0\n",
            "OnlineSecurity      0\n",
            "OnlineBackup        0\n",
            "DeviceProtection    0\n",
            "TechSupport         0\n",
            "StreamingTV         0\n",
            "StreamingMovies     0\n",
            "Contract            0\n",
            "PaperlessBilling    0\n",
            "PaymentMethod       0\n",
            "MonthlyCharges      0\n",
            "TotalCharges        0\n",
            "TenureGroup         0\n",
            "dtype: int64\n"
          ]
        }
      ]
    },
    {
      "cell_type": "markdown",
      "source": [
        "ACIMA TINHA VERIFICADO QUE ESTAVA COM 11 VALORES FALTANTES, ENTÃO FOI FEITO O PRENCHIMENTO DESSES VALORES FALTANTES."
      ],
      "metadata": {
        "id": "P2jrtRg6tHOd"
      }
    },
    {
      "cell_type": "markdown",
      "source": [
        "**TUDO OK AGORA, COMO VISTO ACIMA**"
      ],
      "metadata": {
        "id": "rRjF8YL2tgD-"
      }
    },
    {
      "cell_type": "markdown",
      "source": [
        "**Preparação dos dados para modelagem**"
      ],
      "metadata": {
        "id": "45cyjA3zuXqU"
      }
    },
    {
      "cell_type": "markdown",
      "source": [
        "Aqui verfico quais colunas são categoricas e numerocas, pois o modelo só  entende dados numericos."
      ],
      "metadata": {
        "id": "P6-G_VxWuvbG"
      }
    },
    {
      "cell_type": "markdown",
      "source": [],
      "metadata": {
        "id": "6u3YDdiTueEk"
      }
    },
    {
      "cell_type": "code",
      "source": [
        "# Colunas categóricas\n",
        "categorical_cols = df.select_dtypes(include=['object']).columns.tolist()\n",
        "print(\"Colunas categóricas:\", categorical_cols)\n",
        "\n",
        "# Colunas numéricas\n",
        "numerical_cols = df.select_dtypes(include=['int64', 'float64']).columns.tolist()\n",
        "print(\"\\nColunas numéricas:\", numerical_cols)\n"
      ],
      "metadata": {
        "id": "jNkhcKwls935",
        "colab": {
          "base_uri": "https://localhost:8080/"
        },
        "outputId": "94fa3493-1227-4f59-921e-92ed79280ad1"
      },
      "execution_count": 9,
      "outputs": [
        {
          "output_type": "stream",
          "name": "stdout",
          "text": [
            "Colunas categóricas: ['customerID', 'Churn', 'gender', 'Partner', 'Dependents', 'PhoneService', 'MultipleLines', 'InternetService', 'OnlineSecurity', 'OnlineBackup', 'DeviceProtection', 'TechSupport', 'StreamingTV', 'StreamingMovies', 'Contract', 'PaperlessBilling', 'PaymentMethod', 'TenureGroup']\n",
            "\n",
            "Colunas numéricas: ['SeniorCitizen', 'tenure', 'MonthlyCharges', 'TotalCharges']\n"
          ]
        }
      ]
    },
    {
      "cell_type": "markdown",
      "source": [
        "Devido termos em nosso DataFrame muitas colunas cate góricas, vamos transforma´le em numericas"
      ],
      "metadata": {
        "id": "B5WAvQd6vpGU"
      }
    },
    {
      "cell_type": "code",
      "source": [
        "# Importar biblioteca para encoding\n",
        "from sklearn.preprocessing import LabelEncoder\n",
        "\n",
        "# 1. Transformar a variável alvo Churn para 0 (No) e 1 (Yes)\n",
        "le = LabelEncoder()\n",
        "df['Churn'] = le.fit_transform(df['Churn'])\n",
        "\n",
        "# 2. Listar colunas categóricas (exceto Churn)\n",
        "categorical_cols.remove('Churn')\n",
        "\n",
        "# 3. Identificar colunas binárias (com 2 categorias)\n",
        "binary_cols = [col for col in categorical_cols if df[col].nunique() == 2]\n",
        "print(\"Colunas binárias:\", binary_cols)\n",
        "\n",
        "# 4. Aplicar Label Encoding nas colunas binárias\n",
        "for col in binary_cols:\n",
        "    df[col] = le.fit_transform(df[col])\n",
        "\n",
        "# 5. Colunas com mais de duas categorias (multiclasse)\n",
        "multi_cat_cols = [col for col in categorical_cols if col not in binary_cols]\n",
        "print(\"Colunas com múltiplas categorias:\", multi_cat_cols)\n",
        "\n",
        "# 6. Aplicar One-Hot Encoding nessas colunas\n",
        "df = pd.get_dummies(df, columns=multi_cat_cols)\n",
        "\n",
        "# Mostrar as primeiras linhas para verificar\n",
        "df.head()\n"
      ],
      "metadata": {
        "id": "ZbLQAaSrurPy",
        "colab": {
          "base_uri": "https://localhost:8080/",
          "height": 325
        },
        "outputId": "3a3c6502-7e1f-49c1-c5c5-816c1f2fdf49"
      },
      "execution_count": 10,
      "outputs": [
        {
          "output_type": "stream",
          "name": "stdout",
          "text": [
            "Colunas binárias: ['gender', 'Partner', 'Dependents', 'PhoneService', 'PaperlessBilling']\n",
            "Colunas com múltiplas categorias: ['customerID', 'MultipleLines', 'InternetService', 'OnlineSecurity', 'OnlineBackup', 'DeviceProtection', 'TechSupport', 'StreamingTV', 'StreamingMovies', 'Contract', 'PaymentMethod', 'TenureGroup']\n"
          ]
        },
        {
          "output_type": "execute_result",
          "data": {
            "text/plain": [
              "   Churn  gender  SeniorCitizen  Partner  Dependents  tenure  PhoneService  \\\n",
              "0      0       0              0        1           1       9             1   \n",
              "1      0       1              0        0           0       9             1   \n",
              "2      1       1              0        0           0       4             1   \n",
              "3      1       1              1        1           0      13             1   \n",
              "4      1       0              1        1           0       3             1   \n",
              "\n",
              "   PaperlessBilling  MonthlyCharges  TotalCharges  ...  \\\n",
              "0                 1            65.6        593.30  ...   \n",
              "1                 0            59.9        542.40  ...   \n",
              "2                 1            73.9        280.85  ...   \n",
              "3                 1            98.0       1237.85  ...   \n",
              "4                 1            83.9        267.40  ...   \n",
              "\n",
              "   PaymentMethod_Bank transfer (automatic)  \\\n",
              "0                                    False   \n",
              "1                                    False   \n",
              "2                                    False   \n",
              "3                                    False   \n",
              "4                                    False   \n",
              "\n",
              "   PaymentMethod_Credit card (automatic)  PaymentMethod_Electronic check  \\\n",
              "0                                  False                           False   \n",
              "1                                  False                           False   \n",
              "2                                  False                            True   \n",
              "3                                  False                            True   \n",
              "4                                  False                           False   \n",
              "\n",
              "   PaymentMethod_Mailed check  TenureGroup_0-12 meses  \\\n",
              "0                        True                    True   \n",
              "1                        True                    True   \n",
              "2                       False                    True   \n",
              "3                       False                   False   \n",
              "4                        True                    True   \n",
              "\n",
              "   TenureGroup_13-24 meses  TenureGroup_25-48 meses  TenureGroup_49-60 meses  \\\n",
              "0                    False                    False                    False   \n",
              "1                    False                    False                    False   \n",
              "2                    False                    False                    False   \n",
              "3                     True                    False                    False   \n",
              "4                    False                    False                    False   \n",
              "\n",
              "   TenureGroup_61-72 meses  TenureGroup_72+ meses  \n",
              "0                    False                  False  \n",
              "1                    False                  False  \n",
              "2                    False                  False  \n",
              "3                    False                  False  \n",
              "4                    False                  False  \n",
              "\n",
              "[5 rows x 7079 columns]"
            ],
            "text/html": [
              "\n",
              "  <div id=\"df-61216076-2c92-4355-9365-56e130356483\" class=\"colab-df-container\">\n",
              "    <div>\n",
              "<style scoped>\n",
              "    .dataframe tbody tr th:only-of-type {\n",
              "        vertical-align: middle;\n",
              "    }\n",
              "\n",
              "    .dataframe tbody tr th {\n",
              "        vertical-align: top;\n",
              "    }\n",
              "\n",
              "    .dataframe thead th {\n",
              "        text-align: right;\n",
              "    }\n",
              "</style>\n",
              "<table border=\"1\" class=\"dataframe\">\n",
              "  <thead>\n",
              "    <tr style=\"text-align: right;\">\n",
              "      <th></th>\n",
              "      <th>Churn</th>\n",
              "      <th>gender</th>\n",
              "      <th>SeniorCitizen</th>\n",
              "      <th>Partner</th>\n",
              "      <th>Dependents</th>\n",
              "      <th>tenure</th>\n",
              "      <th>PhoneService</th>\n",
              "      <th>PaperlessBilling</th>\n",
              "      <th>MonthlyCharges</th>\n",
              "      <th>TotalCharges</th>\n",
              "      <th>...</th>\n",
              "      <th>PaymentMethod_Bank transfer (automatic)</th>\n",
              "      <th>PaymentMethod_Credit card (automatic)</th>\n",
              "      <th>PaymentMethod_Electronic check</th>\n",
              "      <th>PaymentMethod_Mailed check</th>\n",
              "      <th>TenureGroup_0-12 meses</th>\n",
              "      <th>TenureGroup_13-24 meses</th>\n",
              "      <th>TenureGroup_25-48 meses</th>\n",
              "      <th>TenureGroup_49-60 meses</th>\n",
              "      <th>TenureGroup_61-72 meses</th>\n",
              "      <th>TenureGroup_72+ meses</th>\n",
              "    </tr>\n",
              "  </thead>\n",
              "  <tbody>\n",
              "    <tr>\n",
              "      <th>0</th>\n",
              "      <td>0</td>\n",
              "      <td>0</td>\n",
              "      <td>0</td>\n",
              "      <td>1</td>\n",
              "      <td>1</td>\n",
              "      <td>9</td>\n",
              "      <td>1</td>\n",
              "      <td>1</td>\n",
              "      <td>65.6</td>\n",
              "      <td>593.30</td>\n",
              "      <td>...</td>\n",
              "      <td>False</td>\n",
              "      <td>False</td>\n",
              "      <td>False</td>\n",
              "      <td>True</td>\n",
              "      <td>True</td>\n",
              "      <td>False</td>\n",
              "      <td>False</td>\n",
              "      <td>False</td>\n",
              "      <td>False</td>\n",
              "      <td>False</td>\n",
              "    </tr>\n",
              "    <tr>\n",
              "      <th>1</th>\n",
              "      <td>0</td>\n",
              "      <td>1</td>\n",
              "      <td>0</td>\n",
              "      <td>0</td>\n",
              "      <td>0</td>\n",
              "      <td>9</td>\n",
              "      <td>1</td>\n",
              "      <td>0</td>\n",
              "      <td>59.9</td>\n",
              "      <td>542.40</td>\n",
              "      <td>...</td>\n",
              "      <td>False</td>\n",
              "      <td>False</td>\n",
              "      <td>False</td>\n",
              "      <td>True</td>\n",
              "      <td>True</td>\n",
              "      <td>False</td>\n",
              "      <td>False</td>\n",
              "      <td>False</td>\n",
              "      <td>False</td>\n",
              "      <td>False</td>\n",
              "    </tr>\n",
              "    <tr>\n",
              "      <th>2</th>\n",
              "      <td>1</td>\n",
              "      <td>1</td>\n",
              "      <td>0</td>\n",
              "      <td>0</td>\n",
              "      <td>0</td>\n",
              "      <td>4</td>\n",
              "      <td>1</td>\n",
              "      <td>1</td>\n",
              "      <td>73.9</td>\n",
              "      <td>280.85</td>\n",
              "      <td>...</td>\n",
              "      <td>False</td>\n",
              "      <td>False</td>\n",
              "      <td>True</td>\n",
              "      <td>False</td>\n",
              "      <td>True</td>\n",
              "      <td>False</td>\n",
              "      <td>False</td>\n",
              "      <td>False</td>\n",
              "      <td>False</td>\n",
              "      <td>False</td>\n",
              "    </tr>\n",
              "    <tr>\n",
              "      <th>3</th>\n",
              "      <td>1</td>\n",
              "      <td>1</td>\n",
              "      <td>1</td>\n",
              "      <td>1</td>\n",
              "      <td>0</td>\n",
              "      <td>13</td>\n",
              "      <td>1</td>\n",
              "      <td>1</td>\n",
              "      <td>98.0</td>\n",
              "      <td>1237.85</td>\n",
              "      <td>...</td>\n",
              "      <td>False</td>\n",
              "      <td>False</td>\n",
              "      <td>True</td>\n",
              "      <td>False</td>\n",
              "      <td>False</td>\n",
              "      <td>True</td>\n",
              "      <td>False</td>\n",
              "      <td>False</td>\n",
              "      <td>False</td>\n",
              "      <td>False</td>\n",
              "    </tr>\n",
              "    <tr>\n",
              "      <th>4</th>\n",
              "      <td>1</td>\n",
              "      <td>0</td>\n",
              "      <td>1</td>\n",
              "      <td>1</td>\n",
              "      <td>0</td>\n",
              "      <td>3</td>\n",
              "      <td>1</td>\n",
              "      <td>1</td>\n",
              "      <td>83.9</td>\n",
              "      <td>267.40</td>\n",
              "      <td>...</td>\n",
              "      <td>False</td>\n",
              "      <td>False</td>\n",
              "      <td>False</td>\n",
              "      <td>True</td>\n",
              "      <td>True</td>\n",
              "      <td>False</td>\n",
              "      <td>False</td>\n",
              "      <td>False</td>\n",
              "      <td>False</td>\n",
              "      <td>False</td>\n",
              "    </tr>\n",
              "  </tbody>\n",
              "</table>\n",
              "<p>5 rows × 7079 columns</p>\n",
              "</div>\n",
              "    <div class=\"colab-df-buttons\">\n",
              "\n",
              "  <div class=\"colab-df-container\">\n",
              "    <button class=\"colab-df-convert\" onclick=\"convertToInteractive('df-61216076-2c92-4355-9365-56e130356483')\"\n",
              "            title=\"Convert this dataframe to an interactive table.\"\n",
              "            style=\"display:none;\">\n",
              "\n",
              "  <svg xmlns=\"http://www.w3.org/2000/svg\" height=\"24px\" viewBox=\"0 -960 960 960\">\n",
              "    <path d=\"M120-120v-720h720v720H120Zm60-500h600v-160H180v160Zm220 220h160v-160H400v160Zm0 220h160v-160H400v160ZM180-400h160v-160H180v160Zm440 0h160v-160H620v160ZM180-180h160v-160H180v160Zm440 0h160v-160H620v160Z\"/>\n",
              "  </svg>\n",
              "    </button>\n",
              "\n",
              "  <style>\n",
              "    .colab-df-container {\n",
              "      display:flex;\n",
              "      gap: 12px;\n",
              "    }\n",
              "\n",
              "    .colab-df-convert {\n",
              "      background-color: #E8F0FE;\n",
              "      border: none;\n",
              "      border-radius: 50%;\n",
              "      cursor: pointer;\n",
              "      display: none;\n",
              "      fill: #1967D2;\n",
              "      height: 32px;\n",
              "      padding: 0 0 0 0;\n",
              "      width: 32px;\n",
              "    }\n",
              "\n",
              "    .colab-df-convert:hover {\n",
              "      background-color: #E2EBFA;\n",
              "      box-shadow: 0px 1px 2px rgba(60, 64, 67, 0.3), 0px 1px 3px 1px rgba(60, 64, 67, 0.15);\n",
              "      fill: #174EA6;\n",
              "    }\n",
              "\n",
              "    .colab-df-buttons div {\n",
              "      margin-bottom: 4px;\n",
              "    }\n",
              "\n",
              "    [theme=dark] .colab-df-convert {\n",
              "      background-color: #3B4455;\n",
              "      fill: #D2E3FC;\n",
              "    }\n",
              "\n",
              "    [theme=dark] .colab-df-convert:hover {\n",
              "      background-color: #434B5C;\n",
              "      box-shadow: 0px 1px 3px 1px rgba(0, 0, 0, 0.15);\n",
              "      filter: drop-shadow(0px 1px 2px rgba(0, 0, 0, 0.3));\n",
              "      fill: #FFFFFF;\n",
              "    }\n",
              "  </style>\n",
              "\n",
              "    <script>\n",
              "      const buttonEl =\n",
              "        document.querySelector('#df-61216076-2c92-4355-9365-56e130356483 button.colab-df-convert');\n",
              "      buttonEl.style.display =\n",
              "        google.colab.kernel.accessAllowed ? 'block' : 'none';\n",
              "\n",
              "      async function convertToInteractive(key) {\n",
              "        const element = document.querySelector('#df-61216076-2c92-4355-9365-56e130356483');\n",
              "        const dataTable =\n",
              "          await google.colab.kernel.invokeFunction('convertToInteractive',\n",
              "                                                    [key], {});\n",
              "        if (!dataTable) return;\n",
              "\n",
              "        const docLinkHtml = 'Like what you see? Visit the ' +\n",
              "          '<a target=\"_blank\" href=https://colab.research.google.com/notebooks/data_table.ipynb>data table notebook</a>'\n",
              "          + ' to learn more about interactive tables.';\n",
              "        element.innerHTML = '';\n",
              "        dataTable['output_type'] = 'display_data';\n",
              "        await google.colab.output.renderOutput(dataTable, element);\n",
              "        const docLink = document.createElement('div');\n",
              "        docLink.innerHTML = docLinkHtml;\n",
              "        element.appendChild(docLink);\n",
              "      }\n",
              "    </script>\n",
              "  </div>\n",
              "\n",
              "\n",
              "    <div id=\"df-15b6a21c-bd02-4810-ae51-16631625433b\">\n",
              "      <button class=\"colab-df-quickchart\" onclick=\"quickchart('df-15b6a21c-bd02-4810-ae51-16631625433b')\"\n",
              "                title=\"Suggest charts\"\n",
              "                style=\"display:none;\">\n",
              "\n",
              "<svg xmlns=\"http://www.w3.org/2000/svg\" height=\"24px\"viewBox=\"0 0 24 24\"\n",
              "     width=\"24px\">\n",
              "    <g>\n",
              "        <path d=\"M19 3H5c-1.1 0-2 .9-2 2v14c0 1.1.9 2 2 2h14c1.1 0 2-.9 2-2V5c0-1.1-.9-2-2-2zM9 17H7v-7h2v7zm4 0h-2V7h2v10zm4 0h-2v-4h2v4z\"/>\n",
              "    </g>\n",
              "</svg>\n",
              "      </button>\n",
              "\n",
              "<style>\n",
              "  .colab-df-quickchart {\n",
              "      --bg-color: #E8F0FE;\n",
              "      --fill-color: #1967D2;\n",
              "      --hover-bg-color: #E2EBFA;\n",
              "      --hover-fill-color: #174EA6;\n",
              "      --disabled-fill-color: #AAA;\n",
              "      --disabled-bg-color: #DDD;\n",
              "  }\n",
              "\n",
              "  [theme=dark] .colab-df-quickchart {\n",
              "      --bg-color: #3B4455;\n",
              "      --fill-color: #D2E3FC;\n",
              "      --hover-bg-color: #434B5C;\n",
              "      --hover-fill-color: #FFFFFF;\n",
              "      --disabled-bg-color: #3B4455;\n",
              "      --disabled-fill-color: #666;\n",
              "  }\n",
              "\n",
              "  .colab-df-quickchart {\n",
              "    background-color: var(--bg-color);\n",
              "    border: none;\n",
              "    border-radius: 50%;\n",
              "    cursor: pointer;\n",
              "    display: none;\n",
              "    fill: var(--fill-color);\n",
              "    height: 32px;\n",
              "    padding: 0;\n",
              "    width: 32px;\n",
              "  }\n",
              "\n",
              "  .colab-df-quickchart:hover {\n",
              "    background-color: var(--hover-bg-color);\n",
              "    box-shadow: 0 1px 2px rgba(60, 64, 67, 0.3), 0 1px 3px 1px rgba(60, 64, 67, 0.15);\n",
              "    fill: var(--button-hover-fill-color);\n",
              "  }\n",
              "\n",
              "  .colab-df-quickchart-complete:disabled,\n",
              "  .colab-df-quickchart-complete:disabled:hover {\n",
              "    background-color: var(--disabled-bg-color);\n",
              "    fill: var(--disabled-fill-color);\n",
              "    box-shadow: none;\n",
              "  }\n",
              "\n",
              "  .colab-df-spinner {\n",
              "    border: 2px solid var(--fill-color);\n",
              "    border-color: transparent;\n",
              "    border-bottom-color: var(--fill-color);\n",
              "    animation:\n",
              "      spin 1s steps(1) infinite;\n",
              "  }\n",
              "\n",
              "  @keyframes spin {\n",
              "    0% {\n",
              "      border-color: transparent;\n",
              "      border-bottom-color: var(--fill-color);\n",
              "      border-left-color: var(--fill-color);\n",
              "    }\n",
              "    20% {\n",
              "      border-color: transparent;\n",
              "      border-left-color: var(--fill-color);\n",
              "      border-top-color: var(--fill-color);\n",
              "    }\n",
              "    30% {\n",
              "      border-color: transparent;\n",
              "      border-left-color: var(--fill-color);\n",
              "      border-top-color: var(--fill-color);\n",
              "      border-right-color: var(--fill-color);\n",
              "    }\n",
              "    40% {\n",
              "      border-color: transparent;\n",
              "      border-right-color: var(--fill-color);\n",
              "      border-top-color: var(--fill-color);\n",
              "    }\n",
              "    60% {\n",
              "      border-color: transparent;\n",
              "      border-right-color: var(--fill-color);\n",
              "    }\n",
              "    80% {\n",
              "      border-color: transparent;\n",
              "      border-right-color: var(--fill-color);\n",
              "      border-bottom-color: var(--fill-color);\n",
              "    }\n",
              "    90% {\n",
              "      border-color: transparent;\n",
              "      border-bottom-color: var(--fill-color);\n",
              "    }\n",
              "  }\n",
              "</style>\n",
              "\n",
              "      <script>\n",
              "        async function quickchart(key) {\n",
              "          const quickchartButtonEl =\n",
              "            document.querySelector('#' + key + ' button');\n",
              "          quickchartButtonEl.disabled = true;  // To prevent multiple clicks.\n",
              "          quickchartButtonEl.classList.add('colab-df-spinner');\n",
              "          try {\n",
              "            const charts = await google.colab.kernel.invokeFunction(\n",
              "                'suggestCharts', [key], {});\n",
              "          } catch (error) {\n",
              "            console.error('Error during call to suggestCharts:', error);\n",
              "          }\n",
              "          quickchartButtonEl.classList.remove('colab-df-spinner');\n",
              "          quickchartButtonEl.classList.add('colab-df-quickchart-complete');\n",
              "        }\n",
              "        (() => {\n",
              "          let quickchartButtonEl =\n",
              "            document.querySelector('#df-15b6a21c-bd02-4810-ae51-16631625433b button');\n",
              "          quickchartButtonEl.style.display =\n",
              "            google.colab.kernel.accessAllowed ? 'block' : 'none';\n",
              "        })();\n",
              "      </script>\n",
              "    </div>\n",
              "\n",
              "    </div>\n",
              "  </div>\n"
            ],
            "application/vnd.google.colaboratory.intrinsic+json": {
              "type": "dataframe",
              "variable_name": "df"
            }
          },
          "metadata": {},
          "execution_count": 10
        }
      ]
    },
    {
      "cell_type": "code",
      "source": [
        "print(df.columns)\n"
      ],
      "metadata": {
        "id": "WhkVZW2Fwxbc",
        "colab": {
          "base_uri": "https://localhost:8080/"
        },
        "outputId": "3b34c479-f8bd-43b7-b5b3-1c16cc0ec169"
      },
      "execution_count": 11,
      "outputs": [
        {
          "output_type": "stream",
          "name": "stdout",
          "text": [
            "Index(['Churn', 'gender', 'SeniorCitizen', 'Partner', 'Dependents', 'tenure',\n",
            "       'PhoneService', 'PaperlessBilling', 'MonthlyCharges', 'TotalCharges',\n",
            "       ...\n",
            "       'PaymentMethod_Bank transfer (automatic)',\n",
            "       'PaymentMethod_Credit card (automatic)',\n",
            "       'PaymentMethod_Electronic check', 'PaymentMethod_Mailed check',\n",
            "       'TenureGroup_0-12 meses', 'TenureGroup_13-24 meses',\n",
            "       'TenureGroup_25-48 meses', 'TenureGroup_49-60 meses',\n",
            "       'TenureGroup_61-72 meses', 'TenureGroup_72+ meses'],\n",
            "      dtype='object', length=7079)\n"
          ]
        }
      ]
    },
    {
      "cell_type": "markdown",
      "source": [
        "✅ Etapas que já concluidas.\n",
        "\n",
        "Importação dos dados tratados via GitHub.\n",
        "\n",
        "Verificação e tratamento de valores faltantes.\n",
        "\n",
        "Identificação de colunas categóricas, binárias e numéricas.\n",
        "\n",
        "Transformação de variáveis categóricas em variáveis dummies."
      ],
      "metadata": {
        "id": "lZN1dkSQxkMx"
      }
    },
    {
      "cell_type": "markdown",
      "source": [
        "SEGUIMOS PARA OS PROXIMOS PASSOS"
      ],
      "metadata": {
        "id": "xMrCInAHyI1l"
      }
    },
    {
      "cell_type": "markdown",
      "source": [
        "1 Separar variáveis preditoras (X) e variável alvo (y)."
      ],
      "metadata": {
        "id": "XCn5uzHQyZHF"
      }
    },
    {
      "cell_type": "code",
      "source": [
        "# y é a variável que queremos prever\n",
        "y = df['Churn']\n",
        "\n",
        "# X são todas as outras variáveis, menos a coluna 'Churn'\n",
        "X = df.drop('Churn', axis=1)\n"
      ],
      "metadata": {
        "id": "NYJk3nb0wdJ4"
      },
      "execution_count": 12,
      "outputs": []
    },
    {
      "cell_type": "code",
      "source": [
        "print(\"Formato de X:\", X.shape)\n",
        "print(\"Formato de y:\", y.shape)\n"
      ],
      "metadata": {
        "id": "FCa5dnLDylf-",
        "colab": {
          "base_uri": "https://localhost:8080/"
        },
        "outputId": "471d3db6-b4d8-4ef6-a6a5-6711e713d786"
      },
      "execution_count": 13,
      "outputs": [
        {
          "output_type": "stream",
          "name": "stdout",
          "text": [
            "Formato de X: (7032, 7078)\n",
            "Formato de y: (7032,)\n"
          ]
        }
      ]
    },
    {
      "cell_type": "markdown",
      "source": [
        "2 Dividir dados em treino e teste"
      ],
      "metadata": {
        "id": "6jEHp2BtzMuG"
      }
    },
    {
      "cell_type": "code",
      "source": [
        "from sklearn.model_selection import train_test_split"
      ],
      "metadata": {
        "id": "n9dn-OZ2ypQX"
      },
      "execution_count": 14,
      "outputs": []
    },
    {
      "cell_type": "code",
      "source": [
        " # Dividindo os dados em treino e teste (80% treino, 20% teste)\n",
        "X_train, X_test, y_train, y_test = train_test_split(\n",
        "    X, y, test_size=0.2, random_state=42, stratify=y\n",
        ")\n",
        "\n",
        "# Verificando o tamanho dos conjuntos\n",
        "print(f'Treino: {X_train.shape}, {y_train.shape}')\n",
        "print(f'Teste: {X_test.shape}, {y_test.shape}')"
      ],
      "metadata": {
        "id": "c9J2Oa-XzjX9",
        "colab": {
          "base_uri": "https://localhost:8080/"
        },
        "outputId": "74483d5e-60d9-48f5-998e-94d8049e5da6"
      },
      "execution_count": 15,
      "outputs": [
        {
          "output_type": "stream",
          "name": "stdout",
          "text": [
            "Treino: (5625, 7078), (5625,)\n",
            "Teste: (1407, 7078), (1407,)\n"
          ]
        }
      ]
    },
    {
      "cell_type": "markdown",
      "source": [
        "3 Treinar modelos\n",
        "\n",
        "Testaremos 3 modelos"
      ],
      "metadata": {
        "id": "gKCVee6d1lmn"
      }
    },
    {
      "cell_type": "markdown",
      "source": [
        "Árvore de Decisão (DecisionTreeClassifier)\n",
        "\n",
        "Random Forest (RandomForestClassifier)\n",
        "\n",
        "Regressão Logística (LogisticRegression)"
      ],
      "metadata": {
        "id": "svZMv4gR10k6"
      }
    },
    {
      "cell_type": "code",
      "source": [
        "from sklearn.tree import DecisionTreeClassifier\n",
        "from sklearn.ensemble import RandomForestClassifier\n",
        "from sklearn.linear_model import LogisticRegression\n",
        "from sklearn.metrics import accuracy_score"
      ],
      "metadata": {
        "id": "q8U8wbS4ztR3"
      },
      "execution_count": 16,
      "outputs": []
    },
    {
      "cell_type": "code",
      "source": [
        "# Criando os modelos\n",
        "modelos = {\n",
        "    'Árvore de Decisão': DecisionTreeClassifier(random_state=42),\n",
        "    'Random Forest': RandomForestClassifier(random_state=42),\n",
        "    'Regressão Logística': LogisticRegression(max_iter=1000, random_state=42)\n",
        "}"
      ],
      "metadata": {
        "id": "BbpWkLNG3J89"
      },
      "execution_count": 17,
      "outputs": []
    },
    {
      "cell_type": "code",
      "source": [
        "# Treinando e avaliando\n",
        "for nome, modelo in modelos.items():\n",
        "    modelo.fit(X_train, y_train)\n",
        "    y_pred = modelo.predict(X_test)\n",
        "    acc = accuracy_score(y_test, y_pred)\n",
        "    print(f'{nome} - Acurácia: {acc:.4f}')"
      ],
      "metadata": {
        "id": "J17VVZva3Ir8",
        "colab": {
          "base_uri": "https://localhost:8080/"
        },
        "outputId": "d7d8d646-a8bd-4cfb-beb2-63415732a79e"
      },
      "execution_count": 18,
      "outputs": [
        {
          "output_type": "stream",
          "name": "stdout",
          "text": [
            "Árvore de Decisão - Acurácia: 0.7740\n",
            "Random Forest - Acurácia: 0.7989\n",
            "Regressão Logística - Acurácia: 0.7982\n"
          ]
        },
        {
          "output_type": "stream",
          "name": "stderr",
          "text": [
            "/usr/local/lib/python3.11/dist-packages/sklearn/linear_model/_logistic.py:465: ConvergenceWarning: lbfgs failed to converge (status=1):\n",
            "STOP: TOTAL NO. OF ITERATIONS REACHED LIMIT.\n",
            "\n",
            "Increase the number of iterations (max_iter) or scale the data as shown in:\n",
            "    https://scikit-learn.org/stable/modules/preprocessing.html\n",
            "Please also refer to the documentation for alternative solver options:\n",
            "    https://scikit-learn.org/stable/modules/linear_model.html#logistic-regression\n",
            "  n_iter_i = _check_optimize_result(\n"
          ]
        }
      ]
    },
    {
      "cell_type": "code",
      "source": [
        "from sklearn.linear_model import LogisticRegression\n",
        "\n",
        "modelos['Regressão Logística'] = LogisticRegression(max_iter=1000)\n"
      ],
      "metadata": {
        "id": "8XGBCetL3Xd9"
      },
      "execution_count": 19,
      "outputs": []
    },
    {
      "cell_type": "code",
      "source": [
        "for nome, modelo in modelos.items():\n",
        "    modelo.fit(X_train, y_train)\n",
        "    y_pred = modelo.predict(X_test)\n",
        "    acc = accuracy_score(y_test, y_pred)\n",
        "    print(f'{nome} - Acurácia: {acc:.4f}')\n"
      ],
      "metadata": {
        "id": "BO9RlIaU4l4G",
        "colab": {
          "base_uri": "https://localhost:8080/"
        },
        "outputId": "e6ef735b-3583-49b8-9d26-aab590ce7db3"
      },
      "execution_count": 20,
      "outputs": [
        {
          "output_type": "stream",
          "name": "stdout",
          "text": [
            "Árvore de Decisão - Acurácia: 0.7740\n",
            "Random Forest - Acurácia: 0.7989\n",
            "Regressão Logística - Acurácia: 0.7982\n"
          ]
        },
        {
          "output_type": "stream",
          "name": "stderr",
          "text": [
            "/usr/local/lib/python3.11/dist-packages/sklearn/linear_model/_logistic.py:465: ConvergenceWarning: lbfgs failed to converge (status=1):\n",
            "STOP: TOTAL NO. OF ITERATIONS REACHED LIMIT.\n",
            "\n",
            "Increase the number of iterations (max_iter) or scale the data as shown in:\n",
            "    https://scikit-learn.org/stable/modules/preprocessing.html\n",
            "Please also refer to the documentation for alternative solver options:\n",
            "    https://scikit-learn.org/stable/modules/linear_model.html#logistic-regression\n",
            "  n_iter_i = _check_optimize_result(\n"
          ]
        }
      ]
    },
    {
      "cell_type": "code",
      "source": [
        "modelos['Regressão Logística'] = LogisticRegression(max_iter=2000)\n"
      ],
      "metadata": {
        "id": "j6s7rGLE4oqF"
      },
      "execution_count": 21,
      "outputs": []
    },
    {
      "cell_type": "code",
      "source": [
        "for nome, modelo in modelos.items():\n",
        "    modelo.fit(X_train, y_train)\n",
        "    y_pred = modelo.predict(X_test)\n",
        "    acc = accuracy_score(y_test, y_pred)\n",
        "    print(f'{nome} - Acurácia: {acc:.4f}')\n"
      ],
      "metadata": {
        "id": "SEXg-weS5foO",
        "colab": {
          "base_uri": "https://localhost:8080/"
        },
        "outputId": "81d7835a-171a-4aad-e5ba-c39e742c9216"
      },
      "execution_count": 22,
      "outputs": [
        {
          "output_type": "stream",
          "name": "stdout",
          "text": [
            "Árvore de Decisão - Acurácia: 0.7740\n",
            "Random Forest - Acurácia: 0.7989\n",
            "Regressão Logística - Acurácia: 0.7982\n"
          ]
        },
        {
          "output_type": "stream",
          "name": "stderr",
          "text": [
            "/usr/local/lib/python3.11/dist-packages/sklearn/linear_model/_logistic.py:465: ConvergenceWarning: lbfgs failed to converge (status=1):\n",
            "STOP: TOTAL NO. OF ITERATIONS REACHED LIMIT.\n",
            "\n",
            "Increase the number of iterations (max_iter) or scale the data as shown in:\n",
            "    https://scikit-learn.org/stable/modules/preprocessing.html\n",
            "Please also refer to the documentation for alternative solver options:\n",
            "    https://scikit-learn.org/stable/modules/linear_model.html#logistic-regression\n",
            "  n_iter_i = _check_optimize_result(\n"
          ]
        }
      ]
    },
    {
      "cell_type": "code",
      "source": [
        "from sklearn.preprocessing import StandardScaler\n",
        "\n",
        "scaler = StandardScaler()\n",
        "\n",
        "X_train_scaled = scaler.fit_transform(X_train)\n",
        "X_test_scaled = scaler.transform(X_test)\n"
      ],
      "metadata": {
        "id": "3yPxzx9a5qGV"
      },
      "execution_count": 23,
      "outputs": []
    },
    {
      "cell_type": "code",
      "source": [
        "from sklearn.linear_model import LogisticRegression\n",
        "from sklearn.metrics import accuracy_score\n",
        "\n",
        "modelo_lr = LogisticRegression(max_iter=1000, random_state=42)\n",
        "modelo_lr.fit(X_train_scaled, y_train)\n",
        "\n",
        "y_pred_lr = modelo_lr.predict(X_test_scaled)\n",
        "\n",
        "acc = accuracy_score(y_test, y_pred_lr)\n",
        "print(f'Regressão Logística (dados escalados) - Acurácia: {acc:.4f}')\n"
      ],
      "metadata": {
        "id": "WHoaJEFK7FRe",
        "colab": {
          "base_uri": "https://localhost:8080/"
        },
        "outputId": "c3382aaa-57f3-4a8c-d22a-08591ffb1441"
      },
      "execution_count": 24,
      "outputs": [
        {
          "output_type": "stream",
          "name": "stdout",
          "text": [
            "Regressão Logística (dados escalados) - Acurácia: 0.7946\n"
          ]
        }
      ]
    },
    {
      "cell_type": "markdown",
      "source": [
        "### ⚠️ Aviso durante o treino da Regressão Logística\n",
        "\n",
        "Durante o treinamento do modelo de Regressão Logística, foi gerado o seguinte aviso:\n",
        "\n",
        "`ConvergenceWarning: lbfgs failed to converge (status=1): STOP: TOTAL NO. OF ITERATIONS REACHED LIMIT.`\n",
        "\n",
        "Este aviso indica que o algoritmo não convergiu no número padrão de iterações. Como solução, aumentei o parâmetro `max_iter` para 2000, e também testei com os dados normalizados usando `StandardScaler`.\n",
        "\n",
        "Apesar disso, o aviso ainda apareceu — o que é comum em datasets mais complexos. O modelo funcionou normalmente, com acurácia próxima de 79%. Ainda assim, esse ponto foi observado e documentado.\n"
      ],
      "metadata": {
        "id": "IC2pnNmomZ0t"
      }
    },
    {
      "cell_type": "markdown",
      "source": [
        "Agora vamos fazer uma avaliação mais detalhada dos seus modelos com matriz de confusão e relatório de classificação — isso ajuda muito a entender pontos fortes e fracos de cada modelo além da acurácia."
      ],
      "metadata": {
        "id": "NWmN0shO7x59"
      }
    },
    {
      "cell_type": "markdown",
      "source": [
        "**Passo 1: Importar as funções que sera usada**"
      ],
      "metadata": {
        "id": "mOpNXdJb8XRG"
      }
    },
    {
      "cell_type": "code",
      "source": [
        "from sklearn.metrics import confusion_matrix, classification_report\n",
        "import seaborn as sns\n",
        "import matplotlib.pyplot as plt\n"
      ],
      "metadata": {
        "id": "1B39qNDJ7Mgk"
      },
      "execution_count": 25,
      "outputs": []
    },
    {
      "cell_type": "markdown",
      "source": [
        "**Passo 2: Gerar predições para todos os modelos**"
      ],
      "metadata": {
        "id": "dgnvaARN8hDU"
      }
    },
    {
      "cell_type": "code",
      "source": [
        "# Previsões Árvore de Decisão e Random Forest (dados originais)\n",
        "y_pred_dt = modelos['Árvore de Decisão'].predict(X_test)\n",
        "y_pred_rf = modelos['Random Forest'].predict(X_test)\n",
        "\n",
        "# Previsão Regressão Logística (dados escalados)\n",
        "y_pred_lr = modelo_lr.predict(X_test_scaled)\n"
      ],
      "metadata": {
        "id": "Ek1X9HRz8AgU"
      },
      "execution_count": 26,
      "outputs": []
    },
    {
      "cell_type": "markdown",
      "source": [
        "**Passo 3: Criar função para plotar matriz de confusão**"
      ],
      "metadata": {
        "id": "Y5aohGqE8nXE"
      }
    },
    {
      "cell_type": "code",
      "source": [
        "def plot_confusion_matrix(y_true, y_pred, title):\n",
        "    cm = confusion_matrix(y_true, y_pred)\n",
        "    sns.heatmap(cm, annot=True, fmt='d', cmap='Blues')\n",
        "    plt.title(title)\n",
        "    plt.xlabel('Previsto')\n",
        "    plt.ylabel('Real')\n",
        "    plt.show()\n"
      ],
      "metadata": {
        "id": "p5MCq-1n8ER0"
      },
      "execution_count": 27,
      "outputs": []
    },
    {
      "cell_type": "code",
      "source": [
        "for nome, y_pred in zip(\n",
        "    ['Árvore de Decisão', 'Random Forest', 'Regressão Logística'],\n",
        "    [y_pred_dt, y_pred_rf, y_pred_lr]):\n",
        "\n",
        "    print(f\"Modelo: {nome}\")\n",
        "    plot_confusion_matrix(y_test, y_pred, f\"Matriz de Confusão - {nome}\")\n",
        "    print(classification_report(y_test, y_pred))\n",
        "    print('--------------------------------------')\n"
      ],
      "metadata": {
        "id": "853uBMkm8G9E",
        "colab": {
          "base_uri": "https://localhost:8080/",
          "height": 1000
        },
        "outputId": "469a61bb-2c21-4d2f-dfd5-812363ee6c47"
      },
      "execution_count": 28,
      "outputs": [
        {
          "output_type": "stream",
          "name": "stdout",
          "text": [
            "Modelo: Árvore de Decisão\n"
          ]
        },
        {
          "output_type": "display_data",
          "data": {
            "text/plain": [
              "<Figure size 640x480 with 2 Axes>"
            ],
            "image/png": "[encoded data removed]"
          },
          "metadata": {}
        },
        {
          "output_type": "stream",
          "name": "stdout",
          "text": [
            "              precision    recall  f1-score   support\n",
            "\n",
            "           0       0.83      0.88      0.85      1033\n",
            "           1       0.59      0.49      0.54       374\n",
            "\n",
            "    accuracy                           0.77      1407\n",
            "   macro avg       0.71      0.68      0.69      1407\n",
            "weighted avg       0.76      0.77      0.77      1407\n",
            "\n",
            "--------------------------------------\n",
            "Modelo: Random Forest\n"
          ]
        },
        {
          "output_type": "display_data",
          "data": {
            "text/plain": [
              "<Figure size 640x480 with 2 Axes>"
            ],
            "image/png": "[encoded data removed]"
          },
          "metadata": {}
        },
        {
          "output_type": "stream",
          "name": "stdout",
          "text": [
            "              precision    recall  f1-score   support\n",
            "\n",
            "           0       0.82      0.93      0.87      1033\n",
            "           1       0.69      0.45      0.54       374\n",
            "\n",
            "    accuracy                           0.80      1407\n",
            "   macro avg       0.75      0.69      0.71      1407\n",
            "weighted avg       0.79      0.80      0.78      1407\n",
            "\n",
            "--------------------------------------\n",
            "Modelo: Regressão Logística\n"
          ]
        },
        {
          "output_type": "display_data",
          "data": {
            "text/plain": [
              "<Figure size 640x480 with 2 Axes>"
            ],
            "image/png": "[encoded data removed]"
          },
          "metadata": {}
        },
        {
          "output_type": "stream",
          "name": "stdout",
          "text": [
            "              precision    recall  f1-score   support\n",
            "\n",
            "           0       0.81      0.94      0.87      1033\n",
            "           1       0.71      0.38      0.50       374\n",
            "\n",
            "    accuracy                           0.79      1407\n",
            "   macro avg       0.76      0.66      0.68      1407\n",
            "weighted avg       0.78      0.79      0.77      1407\n",
            "\n",
            "--------------------------------------\n"
          ]
        }
      ]
    },
    {
      "cell_type": "markdown",
      "source": [
        "**Análise de correlação**"
      ],
      "metadata": {
        "id": "FXi5q_mwAfHF"
      }
    },
    {
      "cell_type": "code",
      "source": [
        "# Certificar que o churn está binário\n",
        "df['Churn_binary'] = df['Churn'].map({'No': 0, 'Yes': 1})\n",
        "\n",
        "# Selecionar apenas algumas colunas relevantes manualmente\n",
        "colunas_relevantes = ['Churn_binary', 'tenure', 'MonthlyCharges', 'TotalCharges']\n",
        "\n",
        "# Remover valores ausentes ou inválidos (por precaução)\n",
        "df_filtrado = df[colunas_relevantes].copy()\n",
        "df_filtrado = df_filtrado.apply(pd.to_numeric, errors='coerce')\n",
        "df_filtrado = df_filtrado.dropna()\n",
        "\n",
        "# Calcular correlação\n",
        "correlacoes = df_filtrado.corr()['Churn_binary'].sort_values(ascending=False)\n",
        "\n",
        "# Exibir\n",
        "print(\"Correlação com Churn:\")\n",
        "print(correlacoes)\n"
      ],
      "metadata": {
        "colab": {
          "base_uri": "https://localhost:8080/"
        },
        "id": "0-czoM1HFRAr",
        "outputId": "b9401ab5-88bc-4254-e2c2-55de4b0a26d2"
      },
      "execution_count": 29,
      "outputs": [
        {
          "output_type": "stream",
          "name": "stdout",
          "text": [
            "Correlação com Churn:\n",
            "Churn_binary     NaN\n",
            "tenure           NaN\n",
            "MonthlyCharges   NaN\n",
            "TotalCharges     NaN\n",
            "Name: Churn_binary, dtype: float64\n"
          ]
        }
      ]
    },
    {
      "cell_type": "code",
      "source": [
        "# Garantir que todas as colunas estão presentes e em formato correto\n",
        "df['Churn_binary'] = df['Churn'].map({'No': 0, 'Yes': 1})\n",
        "\n",
        "# Verifique se as colunas existem e estão numéricas\n",
        "df['TotalCharges'] = pd.to_numeric(df['TotalCharges'], errors='coerce')\n",
        "df['MonthlyCharges'] = pd.to_numeric(df['MonthlyCharges'], errors='coerce')\n",
        "df['tenure'] = pd.to_numeric(df['tenure'], errors='coerce')\n",
        "\n",
        "# Remover linhas com valores ausentes em qualquer uma dessas colunas\n",
        "df_corr = df[['Churn_binary', 'tenure', 'MonthlyCharges', 'TotalCharges']].dropna()\n",
        "\n",
        "# Calcular correlação com o churn\n",
        "correlacoes = df_corr.corr()['Churn_binary'].sort_values(ascending=False)\n",
        "\n",
        "# Exibir\n",
        "print(\"Correlação com Churn:\")\n",
        "print(correlacoes)\n"
      ],
      "metadata": {
        "colab": {
          "base_uri": "https://localhost:8080/"
        },
        "id": "OUhBKKy4FRxj",
        "outputId": "7437d51b-f605-491c-8500-e4d8efe4e4d8"
      },
      "execution_count": 30,
      "outputs": [
        {
          "output_type": "stream",
          "name": "stdout",
          "text": [
            "Correlação com Churn:\n",
            "Churn_binary     NaN\n",
            "tenure           NaN\n",
            "MonthlyCharges   NaN\n",
            "TotalCharges     NaN\n",
            "Name: Churn_binary, dtype: float64\n"
          ]
        }
      ]
    },
    {
      "cell_type": "code",
      "source": [
        "print(df[['tenure', 'MonthlyCharges', 'TotalCharges', 'Churn']].dtypes)\n"
      ],
      "metadata": {
        "colab": {
          "base_uri": "https://localhost:8080/"
        },
        "id": "aVjl9E9DFfNh",
        "outputId": "0583ac34-a81b-4b82-c664-05b400fd532c"
      },
      "execution_count": 31,
      "outputs": [
        {
          "output_type": "stream",
          "name": "stdout",
          "text": [
            "tenure              int64\n",
            "MonthlyCharges    float64\n",
            "TotalCharges      float64\n",
            "Churn               int64\n",
            "dtype: object\n"
          ]
        }
      ]
    },
    {
      "cell_type": "code",
      "source": [
        "print(df[['tenure', 'MonthlyCharges', 'TotalCharges', 'Churn']].isnull().sum())\n"
      ],
      "metadata": {
        "colab": {
          "base_uri": "https://localhost:8080/"
        },
        "id": "wnlwVqqCFr1K",
        "outputId": "2942e719-9007-435c-f764-7b476e01e36c"
      },
      "execution_count": 32,
      "outputs": [
        {
          "output_type": "stream",
          "name": "stdout",
          "text": [
            "tenure            0\n",
            "MonthlyCharges    0\n",
            "TotalCharges      0\n",
            "Churn             0\n",
            "dtype: int64\n"
          ]
        }
      ]
    },
    {
      "cell_type": "code",
      "source": [
        "# Correlação com a variável Churn (já binária)\n",
        "correlacoes = df[['tenure', 'MonthlyCharges', 'TotalCharges']].corrwith(df['Churn']).sort_values(ascending=False)\n",
        "print(\"Correlação com Churn:\")\n",
        "print(correlacoes)\n"
      ],
      "metadata": {
        "colab": {
          "base_uri": "https://localhost:8080/"
        },
        "id": "U7EPIyynF0CZ",
        "outputId": "a4030b80-f5f6-472b-b91a-e1ee3a6319de"
      },
      "execution_count": 33,
      "outputs": [
        {
          "output_type": "stream",
          "name": "stdout",
          "text": [
            "Correlação com Churn:\n",
            "MonthlyCharges    0.192858\n",
            "TotalCharges     -0.199484\n",
            "tenure           -0.354049\n",
            "dtype: float64\n"
          ]
        }
      ]
    },
    {
      "cell_type": "markdown",
      "source": [
        "**Relatório de Conclusão Estratégica – Projeto Telecom X**\n",
        "\n",
        "**1**. Introdução **negrito**\n",
        "\n",
        "Neste projeto, analisamos dados de clientes da empresa Telecom X para entender os principais fatores que influenciam a evasão (churn) e construir modelos preditivos para identificar clientes com maior risco de cancelamento.\n",
        "\n",
        "**2. Preparação dos Dados**\n",
        "\n",
        "Tratamos dados faltantes, especialmente na coluna TotalCharges.\n",
        "\n",
        "Codificamos variáveis categóricas com one-hot encoding.\n",
        "\n",
        "Normalizamos variáveis numéricas para otimizar o desempenho dos modelos.\n",
        "\n",
        "**3. Análise Exploratória e Correlação**\n",
        "\n",
        "As variáveis mais correlacionadas com churn foram:\n",
        "\n",
        "Tempo como cliente (tenure), com correlação negativa de -0.35.\n",
        "\n",
        "Valor da mensalidade (MonthlyCharges), correlação positiva de +0.19.\n",
        "\n",
        "Total gasto pelo cliente (TotalCharges), correlação negativa de -0.20.\n",
        "\n",
        "Clientes com menor tempo de contrato e mensalidades mais altas apresentam maior probabilidade de cancelar.\n",
        "\n",
        "Clientes que gastaram mais tendem a permanecer.\n",
        "\n",
        "**4. Modelagem**\n",
        "\n",
        "Treinamos três modelos de classificação: Árvore de Decisão, Random Forest e Regressão Logística.\n",
        "\n",
        "O modelo Random Forest apresentou o melhor desempenho, com acurácia próxima de 79,9%.\n",
        "\n",
        "**5. Avaliação dos Modelos**\n",
        "\n",
        "Métricas avaliadas: acurácia, precisão, recall e F1-score.\n",
        "\n",
        "Os modelos identificam melhor os clientes que permanecem, porém têm menor desempenho para detectar os que cancelam, o que é comum em bases desbalanceadas.\n",
        "\n",
        "**6. Conclusões Estratégicas**\n",
        "O tempo de permanência é o fator mais influente na evasão: clientes recentes têm maior risco de churn.\n",
        "\n",
        "Mensalidades altas elevam a chance de cancelamento, sugerindo a necessidade de planos ou incentivos diferenciados.\n",
        "\n",
        "O total gasto indica fidelidade: clientes com maior gasto tendem a ficar.\n",
        "\n",
        "Recomenda-se focar ações em clientes novos e com mensalidades elevadas para reduzir a evasão.\n",
        "\n",
        "**7. Próximos Passos**\n",
        "\n",
        "Explorar variáveis adicionais que possam impactar o churn, como uso de serviços ou suporte.\n",
        "\n",
        "Aplicar técnicas de balanceamento para melhorar a detecção de clientes que cancelam.\n",
        "\n",
        "Experimentar modelos mais complexos para potencializar a previsão.\n",
        "\n"
      ],
      "metadata": {
        "id": "rehiLnCmnjGA"
      }
    },
    {
      "cell_type": "code",
      "source": [],
      "metadata": {
        "id": "TYXAuCkeGEf5"
      },
      "execution_count": 33,
      "outputs": []
    }
  ]
}