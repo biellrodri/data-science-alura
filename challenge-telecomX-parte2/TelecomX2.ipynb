{
 "cells": [
  {
   "cell_type": "code",
   "execution_count": 1,
   "metadata": {},
   "outputs": [
    {
     "name": "stdout",
     "output_type": "stream",
     "text": [
      "Requirement already satisfied: scikit-learn in c:\\users\\gabri\\appdata\\local\\programs\\python\\python313\\lib\\site-packages (1.7.1)\n",
      "Requirement already satisfied: numpy>=1.22.0 in c:\\users\\gabri\\appdata\\local\\programs\\python\\python313\\lib\\site-packages (from scikit-learn) (2.2.2)\n",
      "Requirement already satisfied: scipy>=1.8.0 in c:\\users\\gabri\\appdata\\local\\programs\\python\\python313\\lib\\site-packages (from scikit-learn) (1.16.1)\n",
      "Requirement already satisfied: joblib>=1.2.0 in c:\\users\\gabri\\appdata\\local\\programs\\python\\python313\\lib\\site-packages (from scikit-learn) (1.5.1)\n",
      "Requirement already satisfied: threadpoolctl>=3.1.0 in c:\\users\\gabri\\appdata\\local\\programs\\python\\python313\\lib\\site-packages (from scikit-learn) (3.6.0)\n",
      "Note: you may need to restart the kernel to use updated packages.\n"
     ]
    }
   ],
   "source": [
    "pip install scikit-learn"
   ]
  },
  {
   "cell_type": "code",
   "execution_count": 2,
   "metadata": {
    "id": "WGbYqPtdrX79"
   },
   "outputs": [],
   "source": [
    "import pandas as pd"
   ]
  },
  {
   "cell_type": "code",
   "execution_count": 3,
   "metadata": {
    "id": "tW6tS738rbGk"
   },
   "outputs": [],
   "source": [
    "# Carregando os dados do challenge 1\n",
    "url = \"https://raw.githubusercontent.com/MilenaSimionee/TelecomX/refs/heads/main/telecom_churn_tratado.csv\"\n",
    "df = pd.read_csv(url)"
   ]
  },
  {
   "cell_type": "code",
   "execution_count": 4,
   "metadata": {
    "colab": {
     "base_uri": "https://localhost:8080/",
     "height": 342
    },
    "id": "8FBtwK_irnly",
    "outputId": "4cac2992-9a78-416b-d10a-8ccf4bb426b2"
   },
   "outputs": [
    {
     "data": {
      "text/html": [
       "<div>\n",
       "<style scoped>\n",
       "    .dataframe tbody tr th:only-of-type {\n",
       "        vertical-align: middle;\n",
       "    }\n",
       "\n",
       "    .dataframe tbody tr th {\n",
       "        vertical-align: top;\n",
       "    }\n",
       "\n",
       "    .dataframe thead th {\n",
       "        text-align: right;\n",
       "    }\n",
       "</style>\n",
       "<table border=\"1\" class=\"dataframe\">\n",
       "  <thead>\n",
       "    <tr style=\"text-align: right;\">\n",
       "      <th></th>\n",
       "      <th>customerID</th>\n",
       "      <th>Churn</th>\n",
       "      <th>gender</th>\n",
       "      <th>SeniorCitizen</th>\n",
       "      <th>Partner</th>\n",
       "      <th>Dependents</th>\n",
       "      <th>tenure</th>\n",
       "      <th>PhoneService</th>\n",
       "      <th>MultipleLines</th>\n",
       "      <th>InternetService</th>\n",
       "      <th>...</th>\n",
       "      <th>DeviceProtection</th>\n",
       "      <th>TechSupport</th>\n",
       "      <th>StreamingTV</th>\n",
       "      <th>StreamingMovies</th>\n",
       "      <th>Contract</th>\n",
       "      <th>PaperlessBilling</th>\n",
       "      <th>PaymentMethod</th>\n",
       "      <th>MonthlyCharges</th>\n",
       "      <th>TotalCharges</th>\n",
       "      <th>TenureGroup</th>\n",
       "    </tr>\n",
       "  </thead>\n",
       "  <tbody>\n",
       "    <tr>\n",
       "      <th>0</th>\n",
       "      <td>0002-ORFBO</td>\n",
       "      <td>No</td>\n",
       "      <td>Female</td>\n",
       "      <td>0</td>\n",
       "      <td>Yes</td>\n",
       "      <td>Yes</td>\n",
       "      <td>9</td>\n",
       "      <td>Yes</td>\n",
       "      <td>No</td>\n",
       "      <td>DSL</td>\n",
       "      <td>...</td>\n",
       "      <td>No</td>\n",
       "      <td>Yes</td>\n",
       "      <td>Yes</td>\n",
       "      <td>No</td>\n",
       "      <td>One year</td>\n",
       "      <td>Yes</td>\n",
       "      <td>Mailed check</td>\n",
       "      <td>65.6</td>\n",
       "      <td>593.30</td>\n",
       "      <td>0-12 meses</td>\n",
       "    </tr>\n",
       "    <tr>\n",
       "      <th>1</th>\n",
       "      <td>0003-MKNFE</td>\n",
       "      <td>No</td>\n",
       "      <td>Male</td>\n",
       "      <td>0</td>\n",
       "      <td>No</td>\n",
       "      <td>No</td>\n",
       "      <td>9</td>\n",
       "      <td>Yes</td>\n",
       "      <td>Yes</td>\n",
       "      <td>DSL</td>\n",
       "      <td>...</td>\n",
       "      <td>No</td>\n",
       "      <td>No</td>\n",
       "      <td>No</td>\n",
       "      <td>Yes</td>\n",
       "      <td>Month-to-month</td>\n",
       "      <td>No</td>\n",
       "      <td>Mailed check</td>\n",
       "      <td>59.9</td>\n",
       "      <td>542.40</td>\n",
       "      <td>0-12 meses</td>\n",
       "    </tr>\n",
       "    <tr>\n",
       "      <th>2</th>\n",
       "      <td>0004-TLHLJ</td>\n",
       "      <td>Yes</td>\n",
       "      <td>Male</td>\n",
       "      <td>0</td>\n",
       "      <td>No</td>\n",
       "      <td>No</td>\n",
       "      <td>4</td>\n",
       "      <td>Yes</td>\n",
       "      <td>No</td>\n",
       "      <td>Fiber optic</td>\n",
       "      <td>...</td>\n",
       "      <td>Yes</td>\n",
       "      <td>No</td>\n",
       "      <td>No</td>\n",
       "      <td>No</td>\n",
       "      <td>Month-to-month</td>\n",
       "      <td>Yes</td>\n",
       "      <td>Electronic check</td>\n",
       "      <td>73.9</td>\n",
       "      <td>280.85</td>\n",
       "      <td>0-12 meses</td>\n",
       "    </tr>\n",
       "    <tr>\n",
       "      <th>3</th>\n",
       "      <td>0011-IGKFF</td>\n",
       "      <td>Yes</td>\n",
       "      <td>Male</td>\n",
       "      <td>1</td>\n",
       "      <td>Yes</td>\n",
       "      <td>No</td>\n",
       "      <td>13</td>\n",
       "      <td>Yes</td>\n",
       "      <td>No</td>\n",
       "      <td>Fiber optic</td>\n",
       "      <td>...</td>\n",
       "      <td>Yes</td>\n",
       "      <td>No</td>\n",
       "      <td>Yes</td>\n",
       "      <td>Yes</td>\n",
       "      <td>Month-to-month</td>\n",
       "      <td>Yes</td>\n",
       "      <td>Electronic check</td>\n",
       "      <td>98.0</td>\n",
       "      <td>1237.85</td>\n",
       "      <td>13-24 meses</td>\n",
       "    </tr>\n",
       "    <tr>\n",
       "      <th>4</th>\n",
       "      <td>0013-EXCHZ</td>\n",
       "      <td>Yes</td>\n",
       "      <td>Female</td>\n",
       "      <td>1</td>\n",
       "      <td>Yes</td>\n",
       "      <td>No</td>\n",
       "      <td>3</td>\n",
       "      <td>Yes</td>\n",
       "      <td>No</td>\n",
       "      <td>Fiber optic</td>\n",
       "      <td>...</td>\n",
       "      <td>No</td>\n",
       "      <td>Yes</td>\n",
       "      <td>Yes</td>\n",
       "      <td>No</td>\n",
       "      <td>Month-to-month</td>\n",
       "      <td>Yes</td>\n",
       "      <td>Mailed check</td>\n",
       "      <td>83.9</td>\n",
       "      <td>267.40</td>\n",
       "      <td>0-12 meses</td>\n",
       "    </tr>\n",
       "  </tbody>\n",
       "</table>\n",
       "<p>5 rows × 22 columns</p>\n",
       "</div>"
      ],
      "text/plain": [
       "   customerID Churn  gender  SeniorCitizen Partner Dependents  tenure  \\\n",
       "0  0002-ORFBO    No  Female              0     Yes        Yes       9   \n",
       "1  0003-MKNFE    No    Male              0      No         No       9   \n",
       "2  0004-TLHLJ   Yes    Male              0      No         No       4   \n",
       "3  0011-IGKFF   Yes    Male              1     Yes         No      13   \n",
       "4  0013-EXCHZ   Yes  Female              1     Yes         No       3   \n",
       "\n",
       "  PhoneService MultipleLines InternetService  ... DeviceProtection  \\\n",
       "0          Yes            No             DSL  ...               No   \n",
       "1          Yes           Yes             DSL  ...               No   \n",
       "2          Yes            No     Fiber optic  ...              Yes   \n",
       "3          Yes            No     Fiber optic  ...              Yes   \n",
       "4          Yes            No     Fiber optic  ...               No   \n",
       "\n",
       "  TechSupport StreamingTV StreamingMovies        Contract PaperlessBilling  \\\n",
       "0         Yes         Yes              No        One year              Yes   \n",
       "1          No          No             Yes  Month-to-month               No   \n",
       "2          No          No              No  Month-to-month              Yes   \n",
       "3          No         Yes             Yes  Month-to-month              Yes   \n",
       "4         Yes         Yes              No  Month-to-month              Yes   \n",
       "\n",
       "      PaymentMethod MonthlyCharges TotalCharges  TenureGroup  \n",
       "0      Mailed check           65.6       593.30   0-12 meses  \n",
       "1      Mailed check           59.9       542.40   0-12 meses  \n",
       "2  Electronic check           73.9       280.85   0-12 meses  \n",
       "3  Electronic check           98.0      1237.85  13-24 meses  \n",
       "4      Mailed check           83.9       267.40   0-12 meses  \n",
       "\n",
       "[5 rows x 22 columns]"
      ]
     },
     "execution_count": 4,
     "metadata": {},
     "output_type": "execute_result"
    }
   ],
   "source": [
    "df.head()\n"
   ]
  },
  {
   "cell_type": "code",
   "execution_count": 5,
   "metadata": {
    "colab": {
     "base_uri": "https://localhost:8080/"
    },
    "id": "EWTgSFRsrsGq",
    "outputId": "44b143bb-1d0e-4ef2-9fb7-7bfd19bb51d7"
   },
   "outputs": [
    {
     "name": "stdout",
     "output_type": "stream",
     "text": [
      "Valores faltantes por coluna:\n",
      "customerID           0\n",
      "Churn                0\n",
      "gender               0\n",
      "SeniorCitizen        0\n",
      "Partner              0\n",
      "Dependents           0\n",
      "tenure               0\n",
      "PhoneService         0\n",
      "MultipleLines        0\n",
      "InternetService      0\n",
      "OnlineSecurity       0\n",
      "OnlineBackup         0\n",
      "DeviceProtection     0\n",
      "TechSupport          0\n",
      "StreamingTV          0\n",
      "StreamingMovies      0\n",
      "Contract             0\n",
      "PaperlessBilling     0\n",
      "PaymentMethod        0\n",
      "MonthlyCharges       0\n",
      "TotalCharges        11\n",
      "TenureGroup          0\n",
      "dtype: int64\n"
     ]
    }
   ],
   "source": [
    "# Verificar se há valores faltantes por coluna\n",
    "print(\"Valores faltantes por coluna:\")\n",
    "print(df.isnull().sum())"
   ]
  },
  {
   "cell_type": "code",
   "execution_count": 6,
   "metadata": {
    "id": "gC6hjIQysG7K"
   },
   "outputs": [],
   "source": [
    "df = df.dropna(subset=['TotalCharges'])"
   ]
  },
  {
   "cell_type": "code",
   "execution_count": 7,
   "metadata": {
    "colab": {
     "base_uri": "https://localhost:8080/"
    },
    "id": "OmtWa3q4sVCh",
    "outputId": "308434c0-fe3d-4d1b-c778-c664e58a3c5e"
   },
   "outputs": [],
   "source": [
    "mediana = df['TotalCharges'].median()\n",
    "df['TotalCharges'] = df['TotalCharges'].fillna(mediana)"
   ]
  },
  {
   "cell_type": "code",
   "execution_count": 8,
   "metadata": {
    "id": "qOV5YkC8saWx"
   },
   "outputs": [],
   "source": [
    "mediana = df['TotalCharges'].median()\n",
    "df['TotalCharges'] = df['TotalCharges'].fillna(mediana)"
   ]
  },
  {
   "cell_type": "code",
   "execution_count": 9,
   "metadata": {
    "colab": {
     "base_uri": "https://localhost:8080/"
    },
    "id": "3cikrNSPspnh",
    "outputId": "9992dc70-ad29-4d97-befd-f0f92c7dbbcc"
   },
   "outputs": [
    {
     "name": "stdout",
     "output_type": "stream",
     "text": [
      "Valores faltantes por coluna após o preenchimento:\n",
      "customerID          0\n",
      "Churn               0\n",
      "gender              0\n",
      "SeniorCitizen       0\n",
      "Partner             0\n",
      "Dependents          0\n",
      "tenure              0\n",
      "PhoneService        0\n",
      "MultipleLines       0\n",
      "InternetService     0\n",
      "OnlineSecurity      0\n",
      "OnlineBackup        0\n",
      "DeviceProtection    0\n",
      "TechSupport         0\n",
      "StreamingTV         0\n",
      "StreamingMovies     0\n",
      "Contract            0\n",
      "PaperlessBilling    0\n",
      "PaymentMethod       0\n",
      "MonthlyCharges      0\n",
      "TotalCharges        0\n",
      "TenureGroup         0\n",
      "dtype: int64\n"
     ]
    }
   ],
   "source": [
    "print(\"Valores faltantes por coluna após o preenchimento:\")\n",
    "print(df.isnull().sum())\n"
   ]
  },
  {
   "cell_type": "markdown",
   "metadata": {
    "id": "P2jrtRg6tHOd"
   },
   "source": [
    "ACIMA TINHA VERIFICADO QUE ESTAVA COM 11 VALORES FALTANTES, ENTÃO FOI FEITO O PRENCHIMENTO DESSES VALORES FALTANTES."
   ]
  },
  {
   "cell_type": "markdown",
   "metadata": {
    "id": "rRjF8YL2tgD-"
   },
   "source": [
    "**TUDO OK AGORA, COMO VISTO ACIMA**"
   ]
  },
  {
   "cell_type": "markdown",
   "metadata": {
    "id": "45cyjA3zuXqU"
   },
   "source": [
    "**Preparação dos dados para modelagem**"
   ]
  },
  {
   "cell_type": "markdown",
   "metadata": {
    "id": "P6-G_VxWuvbG"
   },
   "source": [
    "Aqui verfico quais colunas são categoricas e numerocas, pois o modelo só  entende dados numericos."
   ]
  },
  {
   "cell_type": "markdown",
   "metadata": {
    "id": "6u3YDdiTueEk"
   },
   "source": []
  },
  {
   "cell_type": "code",
   "execution_count": 10,
   "metadata": {
    "colab": {
     "base_uri": "https://localhost:8080/"
    },
    "id": "jNkhcKwls935",
    "outputId": "94fa3493-1227-4f59-921e-92ed79280ad1"
   },
   "outputs": [
    {
     "name": "stdout",
     "output_type": "stream",
     "text": [
      "Colunas categóricas: ['customerID', 'Churn', 'gender', 'Partner', 'Dependents', 'PhoneService', 'MultipleLines', 'InternetService', 'OnlineSecurity', 'OnlineBackup', 'DeviceProtection', 'TechSupport', 'StreamingTV', 'StreamingMovies', 'Contract', 'PaperlessBilling', 'PaymentMethod', 'TenureGroup']\n",
      "\n",
      "Colunas numéricas: ['SeniorCitizen', 'tenure', 'MonthlyCharges', 'TotalCharges']\n"
     ]
    }
   ],
   "source": [
    "# Colunas categóricas\n",
    "categorical_cols = df.select_dtypes(include=['object']).columns.tolist()\n",
    "print(\"Colunas categóricas:\", categorical_cols)\n",
    "\n",
    "# Colunas numéricas\n",
    "numerical_cols = df.select_dtypes(include=['int64', 'float64']).columns.tolist()\n",
    "print(\"\\nColunas numéricas:\", numerical_cols)\n"
   ]
  },
  {
   "cell_type": "markdown",
   "metadata": {
    "id": "B5WAvQd6vpGU"
   },
   "source": [
    "Devido termos em nosso DataFrame muitas colunas cate góricas, vamos transforma´le em numericas"
   ]
  },
  {
   "cell_type": "code",
   "execution_count": 11,
   "metadata": {
    "colab": {
     "base_uri": "https://localhost:8080/",
     "height": 325
    },
    "id": "ZbLQAaSrurPy",
    "outputId": "3a3c6502-7e1f-49c1-c5c5-816c1f2fdf49"
   },
   "outputs": [
    {
     "name": "stdout",
     "output_type": "stream",
     "text": [
      "Colunas binárias: ['gender', 'Partner', 'Dependents', 'PhoneService', 'PaperlessBilling']\n",
      "Colunas com múltiplas categorias: ['customerID', 'MultipleLines', 'InternetService', 'OnlineSecurity', 'OnlineBackup', 'DeviceProtection', 'TechSupport', 'StreamingTV', 'StreamingMovies', 'Contract', 'PaymentMethod', 'TenureGroup']\n"
     ]
    },
    {
     "data": {
      "text/html": [
       "<div>\n",
       "<style scoped>\n",
       "    .dataframe tbody tr th:only-of-type {\n",
       "        vertical-align: middle;\n",
       "    }\n",
       "\n",
       "    .dataframe tbody tr th {\n",
       "        vertical-align: top;\n",
       "    }\n",
       "\n",
       "    .dataframe thead th {\n",
       "        text-align: right;\n",
       "    }\n",
       "</style>\n",
       "<table border=\"1\" class=\"dataframe\">\n",
       "  <thead>\n",
       "    <tr style=\"text-align: right;\">\n",
       "      <th></th>\n",
       "      <th>Churn</th>\n",
       "      <th>gender</th>\n",
       "      <th>SeniorCitizen</th>\n",
       "      <th>Partner</th>\n",
       "      <th>Dependents</th>\n",
       "      <th>tenure</th>\n",
       "      <th>PhoneService</th>\n",
       "      <th>PaperlessBilling</th>\n",
       "      <th>MonthlyCharges</th>\n",
       "      <th>TotalCharges</th>\n",
       "      <th>...</th>\n",
       "      <th>PaymentMethod_Bank transfer (automatic)</th>\n",
       "      <th>PaymentMethod_Credit card (automatic)</th>\n",
       "      <th>PaymentMethod_Electronic check</th>\n",
       "      <th>PaymentMethod_Mailed check</th>\n",
       "      <th>TenureGroup_0-12 meses</th>\n",
       "      <th>TenureGroup_13-24 meses</th>\n",
       "      <th>TenureGroup_25-48 meses</th>\n",
       "      <th>TenureGroup_49-60 meses</th>\n",
       "      <th>TenureGroup_61-72 meses</th>\n",
       "      <th>TenureGroup_72+ meses</th>\n",
       "    </tr>\n",
       "  </thead>\n",
       "  <tbody>\n",
       "    <tr>\n",
       "      <th>0</th>\n",
       "      <td>0</td>\n",
       "      <td>0</td>\n",
       "      <td>0</td>\n",
       "      <td>1</td>\n",
       "      <td>1</td>\n",
       "      <td>9</td>\n",
       "      <td>1</td>\n",
       "      <td>1</td>\n",
       "      <td>65.6</td>\n",
       "      <td>593.30</td>\n",
       "      <td>...</td>\n",
       "      <td>False</td>\n",
       "      <td>False</td>\n",
       "      <td>False</td>\n",
       "      <td>True</td>\n",
       "      <td>True</td>\n",
       "      <td>False</td>\n",
       "      <td>False</td>\n",
       "      <td>False</td>\n",
       "      <td>False</td>\n",
       "      <td>False</td>\n",
       "    </tr>\n",
       "    <tr>\n",
       "      <th>1</th>\n",
       "      <td>0</td>\n",
       "      <td>1</td>\n",
       "      <td>0</td>\n",
       "      <td>0</td>\n",
       "      <td>0</td>\n",
       "      <td>9</td>\n",
       "      <td>1</td>\n",
       "      <td>0</td>\n",
       "      <td>59.9</td>\n",
       "      <td>542.40</td>\n",
       "      <td>...</td>\n",
       "      <td>False</td>\n",
       "      <td>False</td>\n",
       "      <td>False</td>\n",
       "      <td>True</td>\n",
       "      <td>True</td>\n",
       "      <td>False</td>\n",
       "      <td>False</td>\n",
       "      <td>False</td>\n",
       "      <td>False</td>\n",
       "      <td>False</td>\n",
       "    </tr>\n",
       "    <tr>\n",
       "      <th>2</th>\n",
       "      <td>1</td>\n",
       "      <td>1</td>\n",
       "      <td>0</td>\n",
       "      <td>0</td>\n",
       "      <td>0</td>\n",
       "      <td>4</td>\n",
       "      <td>1</td>\n",
       "      <td>1</td>\n",
       "      <td>73.9</td>\n",
       "      <td>280.85</td>\n",
       "      <td>...</td>\n",
       "      <td>False</td>\n",
       "      <td>False</td>\n",
       "      <td>True</td>\n",
       "      <td>False</td>\n",
       "      <td>True</td>\n",
       "      <td>False</td>\n",
       "      <td>False</td>\n",
       "      <td>False</td>\n",
       "      <td>False</td>\n",
       "      <td>False</td>\n",
       "    </tr>\n",
       "    <tr>\n",
       "      <th>3</th>\n",
       "      <td>1</td>\n",
       "      <td>1</td>\n",
       "      <td>1</td>\n",
       "      <td>1</td>\n",
       "      <td>0</td>\n",
       "      <td>13</td>\n",
       "      <td>1</td>\n",
       "      <td>1</td>\n",
       "      <td>98.0</td>\n",
       "      <td>1237.85</td>\n",
       "      <td>...</td>\n",
       "      <td>False</td>\n",
       "      <td>False</td>\n",
       "      <td>True</td>\n",
       "      <td>False</td>\n",
       "      <td>False</td>\n",
       "      <td>True</td>\n",
       "      <td>False</td>\n",
       "      <td>False</td>\n",
       "      <td>False</td>\n",
       "      <td>False</td>\n",
       "    </tr>\n",
       "    <tr>\n",
       "      <th>4</th>\n",
       "      <td>1</td>\n",
       "      <td>0</td>\n",
       "      <td>1</td>\n",
       "      <td>1</td>\n",
       "      <td>0</td>\n",
       "      <td>3</td>\n",
       "      <td>1</td>\n",
       "      <td>1</td>\n",
       "      <td>83.9</td>\n",
       "      <td>267.40</td>\n",
       "      <td>...</td>\n",
       "      <td>False</td>\n",
       "      <td>False</td>\n",
       "      <td>False</td>\n",
       "      <td>True</td>\n",
       "      <td>True</td>\n",
       "      <td>False</td>\n",
       "      <td>False</td>\n",
       "      <td>False</td>\n",
       "      <td>False</td>\n",
       "      <td>False</td>\n",
       "    </tr>\n",
       "  </tbody>\n",
       "</table>\n",
       "<p>5 rows × 7079 columns</p>\n",
       "</div>"
      ],
      "text/plain": [
       "   Churn  gender  SeniorCitizen  Partner  Dependents  tenure  PhoneService  \\\n",
       "0      0       0              0        1           1       9             1   \n",
       "1      0       1              0        0           0       9             1   \n",
       "2      1       1              0        0           0       4             1   \n",
       "3      1       1              1        1           0      13             1   \n",
       "4      1       0              1        1           0       3             1   \n",
       "\n",
       "   PaperlessBilling  MonthlyCharges  TotalCharges  ...  \\\n",
       "0                 1            65.6        593.30  ...   \n",
       "1                 0            59.9        542.40  ...   \n",
       "2                 1            73.9        280.85  ...   \n",
       "3                 1            98.0       1237.85  ...   \n",
       "4                 1            83.9        267.40  ...   \n",
       "\n",
       "   PaymentMethod_Bank transfer (automatic)  \\\n",
       "0                                    False   \n",
       "1                                    False   \n",
       "2                                    False   \n",
       "3                                    False   \n",
       "4                                    False   \n",
       "\n",
       "   PaymentMethod_Credit card (automatic)  PaymentMethod_Electronic check  \\\n",
       "0                                  False                           False   \n",
       "1                                  False                           False   \n",
       "2                                  False                            True   \n",
       "3                                  False                            True   \n",
       "4                                  False                           False   \n",
       "\n",
       "   PaymentMethod_Mailed check  TenureGroup_0-12 meses  \\\n",
       "0                        True                    True   \n",
       "1                        True                    True   \n",
       "2                       False                    True   \n",
       "3                       False                   False   \n",
       "4                        True                    True   \n",
       "\n",
       "   TenureGroup_13-24 meses  TenureGroup_25-48 meses  TenureGroup_49-60 meses  \\\n",
       "0                    False                    False                    False   \n",
       "1                    False                    False                    False   \n",
       "2                    False                    False                    False   \n",
       "3                     True                    False                    False   \n",
       "4                    False                    False                    False   \n",
       "\n",
       "   TenureGroup_61-72 meses  TenureGroup_72+ meses  \n",
       "0                    False                  False  \n",
       "1                    False                  False  \n",
       "2                    False                  False  \n",
       "3                    False                  False  \n",
       "4                    False                  False  \n",
       "\n",
       "[5 rows x 7079 columns]"
      ]
     },
     "execution_count": 11,
     "metadata": {},
     "output_type": "execute_result"
    }
   ],
   "source": [
    "# Importar biblioteca para encoding\n",
    "from sklearn.preprocessing import LabelEncoder\n",
    "\n",
    "# 1. Transformar a variável alvo Churn para 0 (No) e 1 (Yes)\n",
    "le = LabelEncoder()\n",
    "df['Churn'] = le.fit_transform(df['Churn'])\n",
    "\n",
    "# 2. Listar colunas categóricas (exceto Churn)\n",
    "categorical_cols.remove('Churn')\n",
    "\n",
    "# 3. Identificar colunas binárias (com 2 categorias)\n",
    "binary_cols = [col for col in categorical_cols if df[col].nunique() == 2]\n",
    "print(\"Colunas binárias:\", binary_cols)\n",
    "\n",
    "# 4. Aplicar Label Encoding nas colunas binárias\n",
    "for col in binary_cols:\n",
    "    df[col] = le.fit_transform(df[col])\n",
    "\n",
    "# 5. Colunas com mais de duas categorias (multiclasse)\n",
    "multi_cat_cols = [col for col in categorical_cols if col not in binary_cols]\n",
    "print(\"Colunas com múltiplas categorias:\", multi_cat_cols)\n",
    "\n",
    "# 6. Aplicar One-Hot Encoding nessas colunas\n",
    "df = pd.get_dummies(df, columns=multi_cat_cols)\n",
    "\n",
    "# Mostrar as primeiras linhas para verificar\n",
    "df.head()\n"
   ]
  },
  {
   "cell_type": "code",
   "execution_count": 12,
   "metadata": {
    "colab": {
     "base_uri": "https://localhost:8080/"
    },
    "id": "WhkVZW2Fwxbc",
    "outputId": "3b34c479-f8bd-43b7-b5b3-1c16cc0ec169"
   },
   "outputs": [
    {
     "name": "stdout",
     "output_type": "stream",
     "text": [
      "Index(['Churn', 'gender', 'SeniorCitizen', 'Partner', 'Dependents', 'tenure',\n",
      "       'PhoneService', 'PaperlessBilling', 'MonthlyCharges', 'TotalCharges',\n",
      "       ...\n",
      "       'PaymentMethod_Bank transfer (automatic)',\n",
      "       'PaymentMethod_Credit card (automatic)',\n",
      "       'PaymentMethod_Electronic check', 'PaymentMethod_Mailed check',\n",
      "       'TenureGroup_0-12 meses', 'TenureGroup_13-24 meses',\n",
      "       'TenureGroup_25-48 meses', 'TenureGroup_49-60 meses',\n",
      "       'TenureGroup_61-72 meses', 'TenureGroup_72+ meses'],\n",
      "      dtype='object', length=7079)\n"
     ]
    }
   ],
   "source": [
    "print(df.columns)\n"
   ]
  },
  {
   "cell_type": "markdown",
   "metadata": {
    "id": "lZN1dkSQxkMx"
   },
   "source": [
    "✅ Etapas que já concluidas.\n",
    "\n",
    "Importação dos dados tratados via GitHub.\n",
    "\n",
    "Verificação e tratamento de valores faltantes.\n",
    "\n",
    "Identificação de colunas categóricas, binárias e numéricas.\n",
    "\n",
    "Transformação de variáveis categóricas em variáveis dummies."
   ]
  },
  {
   "cell_type": "markdown",
   "metadata": {
    "id": "xMrCInAHyI1l"
   },
   "source": [
    "SEGUIMOS PARA OS PROXIMOS PASSOS"
   ]
  },
  {
   "cell_type": "markdown",
   "metadata": {
    "id": "XCn5uzHQyZHF"
   },
   "source": [
    "1 Separar variáveis preditoras (X) e variável alvo (y)."
   ]
  },
  {
   "cell_type": "code",
   "execution_count": 13,
   "metadata": {
    "id": "NYJk3nb0wdJ4"
   },
   "outputs": [],
   "source": [
    "# y é a variável que queremos prever\n",
    "y = df['Churn']\n",
    "\n",
    "# X são todas as outras variáveis, menos a coluna 'Churn'\n",
    "X = df.drop('Churn', axis=1)\n"
   ]
  },
  {
   "cell_type": "code",
   "execution_count": 14,
   "metadata": {
    "colab": {
     "base_uri": "https://localhost:8080/"
    },
    "id": "FCa5dnLDylf-",
    "outputId": "471d3db6-b4d8-4ef6-a6a5-6711e713d786"
   },
   "outputs": [
    {
     "name": "stdout",
     "output_type": "stream",
     "text": [
      "Formato de X: (7032, 7078)\n",
      "Formato de y: (7032,)\n"
     ]
    }
   ],
   "source": [
    "print(\"Formato de X:\", X.shape)\n",
    "print(\"Formato de y:\", y.shape)\n"
   ]
  },
  {
   "cell_type": "markdown",
   "metadata": {
    "id": "6jEHp2BtzMuG"
   },
   "source": [
    "2 Dividir dados em treino e teste"
   ]
  },
  {
   "cell_type": "code",
   "execution_count": 15,
   "metadata": {
    "id": "n9dn-OZ2ypQX"
   },
   "outputs": [],
   "source": [
    "from sklearn.model_selection import train_test_split"
   ]
  },
  {
   "cell_type": "code",
   "execution_count": 16,
   "metadata": {
    "colab": {
     "base_uri": "https://localhost:8080/"
    },
    "id": "c9J2Oa-XzjX9",
    "outputId": "74483d5e-60d9-48f5-998e-94d8049e5da6"
   },
   "outputs": [
    {
     "name": "stdout",
     "output_type": "stream",
     "text": [
      "Treino: (5625, 7078), (5625,)\n",
      "Teste: (1407, 7078), (1407,)\n"
     ]
    }
   ],
   "source": [
    " # Dividindo os dados em treino e teste (80% treino, 20% teste)\n",
    "X_train, X_test, y_train, y_test = train_test_split(\n",
    "    X, y, test_size=0.2, random_state=42, stratify=y\n",
    ")\n",
    "\n",
    "# Verificando o tamanho dos conjuntos\n",
    "print(f'Treino: {X_train.shape}, {y_train.shape}')\n",
    "print(f'Teste: {X_test.shape}, {y_test.shape}')"
   ]
  },
  {
   "cell_type": "markdown",
   "metadata": {
    "id": "gKCVee6d1lmn"
   },
   "source": [
    "3 Treinar modelos\n",
    "\n",
    "Testaremos 3 modelos"
   ]
  },
  {
   "cell_type": "markdown",
   "metadata": {
    "id": "svZMv4gR10k6"
   },
   "source": [
    "Árvore de Decisão (DecisionTreeClassifier)\n",
    "\n",
    "Random Forest (RandomForestClassifier)\n",
    "\n",
    "Regressão Logística (LogisticRegression)"
   ]
  },
  {
   "cell_type": "code",
   "execution_count": 17,
   "metadata": {
    "id": "q8U8wbS4ztR3"
   },
   "outputs": [],
   "source": [
    "from sklearn.tree import DecisionTreeClassifier\n",
    "from sklearn.ensemble import RandomForestClassifier\n",
    "from sklearn.linear_model import LogisticRegression\n",
    "from sklearn.metrics import accuracy_score"
   ]
  },
  {
   "cell_type": "code",
   "execution_count": 18,
   "metadata": {
    "id": "BbpWkLNG3J89"
   },
   "outputs": [],
   "source": [
    "# Criando os modelos\n",
    "modelos = {\n",
    "    'Árvore de Decisão': DecisionTreeClassifier(random_state=42),\n",
    "    'Random Forest': RandomForestClassifier(random_state=42),\n",
    "    'Regressão Logística': LogisticRegression(max_iter=1000, random_state=42)\n",
    "}"
   ]
  },
  {
   "cell_type": "code",
   "execution_count": 19,
   "metadata": {
    "id": "8XGBCetL3Xd9"
   },
   "outputs": [],
   "source": [
    "from sklearn.linear_model import LogisticRegression\n",
    "\n",
    "modelos['Regressão Logística'] = LogisticRegression(max_iter=1000)\n"
   ]
  },
  {
   "cell_type": "code",
   "execution_count": 20,
   "metadata": {
    "colab": {
     "base_uri": "https://localhost:8080/"
    },
    "id": "BO9RlIaU4l4G",
    "outputId": "e6ef735b-3583-49b8-9d26-aab590ce7db3"
   },
   "outputs": [
    {
     "name": "stdout",
     "output_type": "stream",
     "text": [
      "Árvore de Decisão - Acurácia: 0.7740\n",
      "Random Forest - Acurácia: 0.7989\n",
      "Regressão Logística - Acurácia: 0.8010\n"
     ]
    },
    {
     "name": "stderr",
     "output_type": "stream",
     "text": [
      "C:\\Users\\Gabri\\AppData\\Local\\Programs\\Python\\Python313\\Lib\\site-packages\\sklearn\\linear_model\\_logistic.py:473: ConvergenceWarning: lbfgs failed to converge after 1000 iteration(s) (status=1):\n",
      "STOP: TOTAL NO. OF ITERATIONS REACHED LIMIT\n",
      "\n",
      "Increase the number of iterations to improve the convergence (max_iter=1000).\n",
      "You might also want to scale the data as shown in:\n",
      "    https://scikit-learn.org/stable/modules/preprocessing.html\n",
      "Please also refer to the documentation for alternative solver options:\n",
      "    https://scikit-learn.org/stable/modules/linear_model.html#logistic-regression\n",
      "  n_iter_i = _check_optimize_result(\n"
     ]
    }
   ],
   "source": [
    "for nome, modelo in modelos.items():\n",
    "    modelo.fit(X_train, y_train)\n",
    "    y_pred = modelo.predict(X_test)\n",
    "    acc = accuracy_score(y_test, y_pred)\n",
    "    print(f'{nome} - Acurácia: {acc:.4f}')\n"
   ]
  },
  {
   "cell_type": "code",
   "execution_count": 21,
   "metadata": {
    "id": "j6s7rGLE4oqF"
   },
   "outputs": [],
   "source": [
    "modelos['Regressão Logística'] = LogisticRegression(max_iter=2000)\n"
   ]
  },
  {
   "cell_type": "code",
   "execution_count": null,
   "metadata": {
    "colab": {
     "base_uri": "https://localhost:8080/"
    },
    "id": "SEXg-weS5foO",
    "outputId": "81d7835a-171a-4aad-e5ba-c39e742c9216"
   },
   "outputs": [
    {
     "name": "stdout",
     "output_type": "stream",
     "text": [
      "Árvore de Decisão - Acurácia: 0.7740\n",
      "Random Forest - Acurácia: 0.7989\n"
     ]
    }
   ],
   "source": [
    "for nome, modelo in modelos.items():\n",
    "    modelo.fit(X_train, y_train)\n",
    "    y_pred = modelo.predict(X_test)\n",
    "    acc = accuracy_score(y_test, y_pred)\n",
    "    print(f'{nome} - Acurácia: {acc:.4f}')\n"
   ]
  },
  {
   "cell_type": "code",
   "execution_count": null,
   "metadata": {
    "id": "3yPxzx9a5qGV"
   },
   "outputs": [],
   "source": [
    "from sklearn.preprocessing import StandardScaler\n",
    "\n",
    "scaler = StandardScaler()\n",
    "\n",
    "X_train_scaled = scaler.fit_transform(X_train)\n",
    "X_test_scaled = scaler.transform(X_test)\n"
   ]
  },
  {
   "cell_type": "code",
   "execution_count": null,
   "metadata": {
    "colab": {
     "base_uri": "https://localhost:8080/"
    },
    "id": "WHoaJEFK7FRe",
    "outputId": "c3382aaa-57f3-4a8c-d22a-08591ffb1441"
   },
   "outputs": [],
   "source": [
    "from sklearn.linear_model import LogisticRegression\n",
    "from sklearn.metrics import accuracy_score\n",
    "\n",
    "modelo_lr = LogisticRegression(max_iter=1000, random_state=42)\n",
    "modelo_lr.fit(X_train_scaled, y_train)\n",
    "\n",
    "y_pred_lr = modelo_lr.predict(X_test_scaled)\n",
    "\n",
    "acc = accuracy_score(y_test, y_pred_lr)\n",
    "print(f'Regressão Logística (dados escalados) - Acurácia: {acc:.4f}')\n"
   ]
  },
  {
   "cell_type": "markdown",
   "metadata": {
    "id": "IC2pnNmomZ0t"
   },
   "source": [
    "### ⚠️ Aviso durante o treino da Regressão Logística\n",
    "\n",
    "Durante o treinamento do modelo de Regressão Logística, foi gerado o seguinte aviso:\n",
    "\n",
    "`ConvergenceWarning: lbfgs failed to converge (status=1): STOP: TOTAL NO. OF ITERATIONS REACHED LIMIT.`\n",
    "\n",
    "Este aviso indica que o algoritmo não convergiu no número padrão de iterações. Como solução, aumentei o parâmetro `max_iter` para 2000, e também testei com os dados normalizados usando `StandardScaler`.\n",
    "\n",
    "Apesar disso, o aviso ainda apareceu — o que é comum em datasets mais complexos. O modelo funcionou normalmente, com acurácia próxima de 79%. Ainda assim, esse ponto foi observado e documentado.\n"
   ]
  },
  {
   "cell_type": "markdown",
   "metadata": {
    "id": "NWmN0shO7x59"
   },
   "source": [
    "Agora vamos fazer uma avaliação mais detalhada dos seus modelos com matriz de confusão e relatório de classificação — isso ajuda muito a entender pontos fortes e fracos de cada modelo além da acurácia."
   ]
  },
  {
   "cell_type": "markdown",
   "metadata": {
    "id": "mOpNXdJb8XRG"
   },
   "source": [
    "**Passo 1: Importar as funções que sera usada**"
   ]
  },
  {
   "cell_type": "code",
   "execution_count": null,
   "metadata": {
    "id": "1B39qNDJ7Mgk"
   },
   "outputs": [],
   "source": [
    "from sklearn.metrics import confusion_matrix, classification_report\n",
    "import seaborn as sns\n",
    "import matplotlib.pyplot as plt\n"
   ]
  },
  {
   "cell_type": "markdown",
   "metadata": {
    "id": "dgnvaARN8hDU"
   },
   "source": [
    "**Passo 2: Gerar predições para todos os modelos**"
   ]
  },
  {
   "cell_type": "code",
   "execution_count": null,
   "metadata": {
    "id": "Ek1X9HRz8AgU"
   },
   "outputs": [],
   "source": [
    "# Previsões Árvore de Decisão e Random Forest (dados originais)\n",
    "y_pred_dt = modelos['Árvore de Decisão'].predict(X_test)\n",
    "y_pred_rf = modelos['Random Forest'].predict(X_test)\n",
    "\n",
    "# Previsão Regressão Logística (dados escalados)\n",
    "y_pred_lr = modelo_lr.predict(X_test_scaled)\n"
   ]
  },
  {
   "cell_type": "markdown",
   "metadata": {
    "id": "Y5aohGqE8nXE"
   },
   "source": [
    "**Passo 3: Criar função para plotar matriz de confusão**"
   ]
  },
  {
   "cell_type": "code",
   "execution_count": null,
   "metadata": {
    "id": "p5MCq-1n8ER0"
   },
   "outputs": [],
   "source": [
    "def plot_confusion_matrix(y_true, y_pred, title):\n",
    "    cm = confusion_matrix(y_true, y_pred)\n",
    "    sns.heatmap(cm, annot=True, fmt='d', cmap='Blues')\n",
    "    plt.title(title)\n",
    "    plt.xlabel('Previsto')\n",
    "    plt.ylabel('Real')\n",
    "    plt.show()\n"
   ]
  },
  {
   "cell_type": "code",
   "execution_count": null,
   "metadata": {
    "colab": {
     "base_uri": "https://localhost:8080/",
     "height": 1000
    },
    "id": "853uBMkm8G9E",
    "outputId": "469a61bb-2c21-4d2f-dfd5-812363ee6c47"
   },
   "outputs": [],
   "source": [
    "for nome, y_pred in zip(\n",
    "    ['Árvore de Decisão', 'Random Forest', 'Regressão Logística'],\n",
    "    [y_pred_dt, y_pred_rf, y_pred_lr]):\n",
    "\n",
    "    print(f\"Modelo: {nome}\")\n",
    "    plot_confusion_matrix(y_test, y_pred, f\"Matriz de Confusão - {nome}\")\n",
    "    print(classification_report(y_test, y_pred))\n",
    "    print('--------------------------------------')\n"
   ]
  },
  {
   "cell_type": "markdown",
   "metadata": {
    "id": "FXi5q_mwAfHF"
   },
   "source": [
    "**Análise de correlação**"
   ]
  },
  {
   "cell_type": "code",
   "execution_count": null,
   "metadata": {
    "colab": {
     "base_uri": "https://localhost:8080/"
    },
    "id": "0-czoM1HFRAr",
    "outputId": "b9401ab5-88bc-4254-e2c2-55de4b0a26d2"
   },
   "outputs": [],
   "source": [
    "# Certificar que o churn está binário\n",
    "df['Churn_binary'] = df['Churn'].map({'No': 0, 'Yes': 1})\n",
    "\n",
    "# Selecionar apenas algumas colunas relevantes manualmente\n",
    "colunas_relevantes = ['Churn_binary', 'tenure', 'MonthlyCharges', 'TotalCharges']\n",
    "\n",
    "# Remover valores ausentes ou inválidos (por precaução)\n",
    "df_filtrado = df[colunas_relevantes].copy()\n",
    "df_filtrado = df_filtrado.apply(pd.to_numeric, errors='coerce')\n",
    "df_filtrado = df_filtrado.dropna()\n",
    "\n",
    "# Calcular correlação\n",
    "correlacoes = df_filtrado.corr()['Churn_binary'].sort_values(ascending=False)\n",
    "\n",
    "# Exibir\n",
    "print(\"Correlação com Churn:\")\n",
    "print(correlacoes)\n"
   ]
  },
  {
   "cell_type": "code",
   "execution_count": null,
   "metadata": {
    "colab": {
     "base_uri": "https://localhost:8080/"
    },
    "id": "OUhBKKy4FRxj",
    "outputId": "7437d51b-f605-491c-8500-e4d8efe4e4d8"
   },
   "outputs": [],
   "source": [
    "# Garantir que todas as colunas estão presentes e em formato correto\n",
    "df['Churn_binary'] = df['Churn'].map({'No': 0, 'Yes': 1})\n",
    "\n",
    "# Verifique se as colunas existem e estão numéricas\n",
    "df['TotalCharges'] = pd.to_numeric(df['TotalCharges'], errors='coerce')\n",
    "df['MonthlyCharges'] = pd.to_numeric(df['MonthlyCharges'], errors='coerce')\n",
    "df['tenure'] = pd.to_numeric(df['tenure'], errors='coerce')\n",
    "\n",
    "# Remover linhas com valores ausentes em qualquer uma dessas colunas\n",
    "df_corr = df[['Churn_binary', 'tenure', 'MonthlyCharges', 'TotalCharges']].dropna()\n",
    "\n",
    "# Calcular correlação com o churn\n",
    "correlacoes = df_corr.corr()['Churn_binary'].sort_values(ascending=False)\n",
    "\n",
    "# Exibir\n",
    "print(\"Correlação com Churn:\")\n",
    "print(correlacoes)\n"
   ]
  },
  {
   "cell_type": "code",
   "execution_count": null,
   "metadata": {
    "colab": {
     "base_uri": "https://localhost:8080/"
    },
    "id": "aVjl9E9DFfNh",
    "outputId": "0583ac34-a81b-4b82-c664-05b400fd532c"
   },
   "outputs": [],
   "source": [
    "print(df[['tenure', 'MonthlyCharges', 'TotalCharges', 'Churn']].dtypes)\n"
   ]
  },
  {
   "cell_type": "code",
   "execution_count": null,
   "metadata": {
    "colab": {
     "base_uri": "https://localhost:8080/"
    },
    "id": "wnlwVqqCFr1K",
    "outputId": "2942e719-9007-435c-f764-7b476e01e36c"
   },
   "outputs": [],
   "source": [
    "print(df[['tenure', 'MonthlyCharges', 'TotalCharges', 'Churn']].isnull().sum())\n"
   ]
  },
  {
   "cell_type": "code",
   "execution_count": null,
   "metadata": {
    "colab": {
     "base_uri": "https://localhost:8080/"
    },
    "id": "U7EPIyynF0CZ",
    "outputId": "a4030b80-f5f6-472b-b91a-e1ee3a6319de"
   },
   "outputs": [],
   "source": [
    "# Correlação com a variável Churn (já binária)\n",
    "correlacoes = df[['tenure', 'MonthlyCharges', 'TotalCharges']].corrwith(df['Churn']).sort_values(ascending=False)\n",
    "print(\"Correlação com Churn:\")\n",
    "print(correlacoes)\n"
   ]
  },
  {
   "cell_type": "markdown",
   "metadata": {
    "id": "rehiLnCmnjGA"
   },
   "source": [
    "**Relatório de Conclusão Estratégica – Projeto Telecom X**\n",
    "\n",
    "**1**. Introdução **negrito**\n",
    "\n",
    "Neste projeto, analisamos dados de clientes da empresa Telecom X para entender os principais fatores que influenciam a evasão (churn) e construir modelos preditivos para identificar clientes com maior risco de cancelamento.\n",
    "\n",
    "**2. Preparação dos Dados**\n",
    "\n",
    "Tratamos dados faltantes, especialmente na coluna TotalCharges.\n",
    "\n",
    "Codificamos variáveis categóricas com one-hot encoding.\n",
    "\n",
    "Normalizamos variáveis numéricas para otimizar o desempenho dos modelos.\n",
    "\n",
    "**3. Análise Exploratória e Correlação**\n",
    "\n",
    "As variáveis mais correlacionadas com churn foram:\n",
    "\n",
    "Tempo como cliente (tenure), com correlação negativa de -0.35.\n",
    "\n",
    "Valor da mensalidade (MonthlyCharges), correlação positiva de +0.19.\n",
    "\n",
    "Total gasto pelo cliente (TotalCharges), correlação negativa de -0.20.\n",
    "\n",
    "Clientes com menor tempo de contrato e mensalidades mais altas apresentam maior probabilidade de cancelar.\n",
    "\n",
    "Clientes que gastaram mais tendem a permanecer.\n",
    "\n",
    "**4. Modelagem**\n",
    "\n",
    "Treinamos três modelos de classificação: Árvore de Decisão, Random Forest e Regressão Logística.\n",
    "\n",
    "O modelo Random Forest apresentou o melhor desempenho, com acurácia próxima de 79,9%.\n",
    "\n",
    "**5. Avaliação dos Modelos**\n",
    "\n",
    "Métricas avaliadas: acurácia, precisão, recall e F1-score.\n",
    "\n",
    "Os modelos identificam melhor os clientes que permanecem, porém têm menor desempenho para detectar os que cancelam, o que é comum em bases desbalanceadas.\n",
    "\n",
    "**6. Conclusões Estratégicas**\n",
    "O tempo de permanência é o fator mais influente na evasão: clientes recentes têm maior risco de churn.\n",
    "\n",
    "Mensalidades altas elevam a chance de cancelamento, sugerindo a necessidade de planos ou incentivos diferenciados.\n",
    "\n",
    "O total gasto indica fidelidade: clientes com maior gasto tendem a ficar.\n",
    "\n",
    "Recomenda-se focar ações em clientes novos e com mensalidades elevadas para reduzir a evasão.\n",
    "\n",
    "**7. Próximos Passos**\n",
    "\n",
    "Explorar variáveis adicionais que possam impactar o churn, como uso de serviços ou suporte.\n",
    "\n",
    "Aplicar técnicas de balanceamento para melhorar a detecção de clientes que cancelam.\n",
    "\n",
    "Experimentar modelos mais complexos para potencializar a previsão.\n",
    "\n"
   ]
  },
  {
   "cell_type": "code",
   "execution_count": null,
   "metadata": {
    "id": "TYXAuCkeGEf5"
   },
   "outputs": [],
   "source": []
  }
 ],
 "metadata": {
  "colab": {
   "authorship_tag": "ABX9TyNdOzyzjPhYZvttzGbPiJyd",
   "include_colab_link": true,
   "provenance": []
  },
  "kernelspec": {
   "display_name": "Python 3 (ipykernel)",
   "language": "python",
   "name": "python3"
  },
  "language_info": {
   "codemirror_mode": {
    "name": "ipython",
    "version": 3
   },
   "file_extension": ".py",
   "mimetype": "text/x-python",
   "name": "python",
   "nbconvert_exporter": "python",
   "pygments_lexer": "ipython3",
   "version": "3.13.1"
  }
 },
 "nbformat": 4,
 "nbformat_minor": 4
}
