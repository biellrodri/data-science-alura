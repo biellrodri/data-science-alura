{
 "cells": [
  {
   "cell_type": "markdown",
   "id": "7b3a0b38-e82f-4b36-848b-3e29e2d98387",
   "metadata": {},
   "source": [
    "# Anotações"
   ]
  },
  {
   "cell_type": "markdown",
   "id": "3128f1b0-bb58-4c56-aa41-4ad0844b3503",
   "metadata": {},
   "source": [
    "## Cópia de Arrays\n",
    "\n",
    "Ao trabalharmos com arrays ou outras variáveis em Python, eventualmente fazemos cópias das variáveis que estamos lidando. Quando fazemos a cópia de uma variável, temos que ter em mente o que acontece com ela para evitar que usemos determinados valores pensando que são outros valores. Para lidar com cópias dos arrays, a biblioteca Numpy possui uma função específica.\n",
    "\n",
    "Neste exemplo, possuo um array com o nome preco_imoveis que desejo fazer uma cópia.\n",
    "\n"
   ]
  },
  {
   "cell_type": "code",
   "execution_count": 1,
   "id": "0736f7f9-88ae-4646-8b4c-cc20f7b15048",
   "metadata": {},
   "outputs": [],
   "source": [
    "import numpy as np"
   ]
  },
  {
   "cell_type": "code",
   "execution_count": 2,
   "id": "966eed5c-4508-42e2-876d-b88a4e24a48f",
   "metadata": {},
   "outputs": [],
   "source": [
    "preco_imoveis = np.array([10000,120000,11000,200000])"
   ]
  },
  {
   "cell_type": "code",
   "execution_count": 3,
   "id": "01f9ef1a-6472-4a04-bd92-6d6d232fa986",
   "metadata": {},
   "outputs": [],
   "source": [
    "preco_imoveis_sao_paulo = np.copy(preco_imoveis)"
   ]
  },
  {
   "cell_type": "markdown",
   "id": "013eee6f-02a0-45d3-bf06-1903d7f9b770",
   "metadata": {},
   "source": [
    "O objetivo é colocar os valores deste array em um de nome específico para o preço de imóveis em São Paulo. Vamos fazer a cópia usando o sinal de igual (=)."
   ]
  },
  {
   "cell_type": "code",
   "execution_count": 4,
   "id": "c09028f0-0e20-4707-a194-60c974125641",
   "metadata": {},
   "outputs": [],
   "source": [
    "preco_imoveis_sao_paulo = preco_imoveis"
   ]
  },
  {
   "cell_type": "markdown",
   "id": "09add98a-6f12-49ea-92a5-702ac2251802",
   "metadata": {},
   "source": [
    "Se você verificar os valores na nova variável preco_imoveis_sao_paulo, verá que eles são os mesmos da variável preco_imoveis. Mas, já que \"guardamos\" os preços na variável preco_imoveis_sao_paulo, que tal substituir o valor do primeiro imóvel do array preco_imoveis com um novo que acabou de entrar para o nosso cadastro?"
   ]
  },
  {
   "cell_type": "code",
   "execution_count": 5,
   "id": "30fac000-b630-4fe8-b327-6e4a8f2e012c",
   "metadata": {},
   "outputs": [],
   "source": [
    "preco_imoveis[0] = 120000"
   ]
  },
  {
   "cell_type": "markdown",
   "id": "70a16bde-ad56-4a92-b62e-89a56ca65e69",
   "metadata": {},
   "source": [
    "Se você tentar reproduzir o processo feito até agora, verá que essa alteração no array preco_imoveis também alterou a primeira posição do array preco_imoveis_sao_paulo para o valor de 120000.\n"
   ]
  },
  {
   "cell_type": "code",
   "execution_count": 6,
   "id": "6536c689-07a3-442e-bf3c-c0e761b5b459",
   "metadata": {},
   "outputs": [
    {
     "data": {
      "text/plain": [
       "array([120000, 120000,  11000, 200000])"
      ]
     },
     "execution_count": 6,
     "metadata": {},
     "output_type": "execute_result"
    }
   ],
   "source": [
    "preco_imoveis_sao_paulo"
   ]
  },
  {
   "cell_type": "markdown",
   "id": "bba1c40d-4022-4b6a-b4e3-a6ea0601e7dc",
   "metadata": {},
   "source": [
    "Para criar um array desvinculado do array original existe uma função da numpy, a np.copy(). Para criar a cópia utilizando ela bastaria seguir esse código:"
   ]
  },
  {
   "cell_type": "code",
   "execution_count": 8,
   "id": "a6598c71-9e5e-42d4-b46f-7a24739d45f5",
   "metadata": {},
   "outputs": [],
   "source": [
    "preco_imoveis_sao_paulo = np.copy(preco_imoveis)"
   ]
  }
 ],
 "metadata": {
  "kernelspec": {
   "display_name": "Python 3 (ipykernel)",
   "language": "python",
   "name": "python3"
  },
  "language_info": {
   "codemirror_mode": {
    "name": "ipython",
    "version": 3
   },
   "file_extension": ".py",
   "mimetype": "text/x-python",
   "name": "python",
   "nbconvert_exporter": "python",
   "pygments_lexer": "ipython3",
   "version": "3.13.1"
  }
 },
 "nbformat": 4,
 "nbformat_minor": 5
}
